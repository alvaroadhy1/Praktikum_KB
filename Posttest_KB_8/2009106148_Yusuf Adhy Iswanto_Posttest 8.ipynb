{
 "cells": [
  {
   "cell_type": "markdown",
   "metadata": {},
   "source": [
    "# Import Library"
   ]
  },
  {
   "cell_type": "code",
   "execution_count": 6,
   "metadata": {},
   "outputs": [],
   "source": [
    "import numpy as np \n",
    "import tensorflow as tf\n",
    "import matplotlib.pyplot as plt \n",
    "\n",
    "from tensorflow import keras\n",
    "from tensorflow.keras import layers,optimizers\n",
    "from tensorflow.keras import Sequential\n",
    "from tensorflow.keras.layers import Dense\n",
    "\n",
    "import tensorflow.keras.datasets as tfds\n",
    "\n",
    "import warnings\n",
    "warnings.filterwarnings('ignore')"
   ]
  },
  {
   "cell_type": "markdown",
   "metadata": {},
   "source": [
    "# Regression-DNN"
   ]
  },
  {
   "cell_type": "code",
   "execution_count": 7,
   "metadata": {},
   "outputs": [],
   "source": [
    "x = np.array([1,2,3,4,5,6], dtype=float)\n",
    "y = np.array([2,3,4,8,10,12], dtype=float)"
   ]
  },
  {
   "cell_type": "code",
   "execution_count": 8,
   "metadata": {},
   "outputs": [
    {
     "data": {
      "image/png": "[encoded data removed]",
      "text/plain": [
       "<Figure size 640x480 with 1 Axes>"
      ]
     },
     "metadata": {},
     "output_type": "display_data"
    }
   ],
   "source": [
    "plt.style.use('Solarize_Light2')\n",
    "\n",
    "plt.scatter(x, y)\n",
    "plt.show()"
   ]
  },
  {
   "cell_type": "markdown",
   "metadata": {},
   "source": [
    "### Buat Sequential Model"
   ]
  },
  {
   "cell_type": "code",
   "execution_count": 10,
   "metadata": {},
   "outputs": [],
   "source": [
    "model = tf.keras.Sequential([\n",
    "   tf.keras.layers.Dense(units=1, input_shape=[1])\n",
    "])"
   ]
  },
  {
   "cell_type": "markdown",
   "metadata": {},
   "source": [
    "### Modeling "
   ]
  },
  {
   "cell_type": "code",
   "execution_count": 20,
   "metadata": {},
   "outputs": [],
   "source": [
    "# bangun arsitekturnya\n",
    "model = tf.keras.Sequential([tf.keras.layers.Dense(1, input_shape=[1])])"
   ]
  },
  {
   "cell_type": "code",
   "execution_count": 21,
   "metadata": {},
   "outputs": [],
   "source": [
    "# Konfigurasi model\n",
    "model.compile(optimizer='adam', loss='mae')"
   ]
  },
  {
   "cell_type": "code",
   "execution_count": 24,
   "metadata": {},
   "outputs": [
    {
     "name": "stdout",
     "output_type": "stream",
     "text": [
      "Epoch 1/600\n",
      "10/10 [==============================] - 0s 999us/step - loss: 1.3639\n",
      "Epoch 2/600\n",
      "10/10 [==============================] - 0s 2ms/step - loss: 1.5937\n",
      "Epoch 3/600\n",
      "10/10 [==============================] - 0s 2ms/step - loss: 1.4154\n",
      "Epoch 4/600\n",
      "10/10 [==============================] - 0s 3ms/step - loss: 1.4443\n",
      "Epoch 5/600\n",
      "10/10 [==============================] - 0s 3ms/step - loss: 1.3987\n",
      "Epoch 6/600\n",
      "10/10 [==============================] - 0s 2ms/step - loss: 1.4760\n",
      "Epoch 7/600\n",
      "10/10 [==============================] - 0s 3ms/step - loss: 1.3673\n",
      "Epoch 8/600\n",
      "10/10 [==============================] - 0s 4ms/step - loss: 1.5432\n",
      "Epoch 9/600\n",
      "10/10 [==============================] - 0s 3ms/step - loss: 1.3551\n",
      "Epoch 10/600\n",
      "10/10 [==============================] - 0s 3ms/step - loss: 1.4497\n",
      "Epoch 11/600\n",
      "10/10 [==============================] - 0s 4ms/step - loss: 1.4056\n",
      "Epoch 12/600\n",
      "10/10 [==============================] - 0s 2ms/step - loss: 1.3586\n",
      "Epoch 13/600\n",
      "10/10 [==============================] - 0s 3ms/step - loss: 1.3538\n",
      "Epoch 14/600\n",
      "10/10 [==============================] - 0s 3ms/step - loss: 1.4073\n",
      "Epoch 15/600\n",
      "10/10 [==============================] - 0s 4ms/step - loss: 1.4017\n",
      "Epoch 16/600\n",
      "10/10 [==============================] - 0s 5ms/step - loss: 1.4170\n",
      "Epoch 17/600\n",
      "10/10 [==============================] - 0s 5ms/step - loss: 1.4285\n",
      "Epoch 18/600\n",
      "10/10 [==============================] - 0s 4ms/step - loss: 1.2646\n",
      "Epoch 19/600\n",
      "10/10 [==============================] - 0s 3ms/step - loss: 1.3925\n",
      "Epoch 20/600\n",
      "10/10 [==============================] - 0s 3ms/step - loss: 1.4191\n",
      "Epoch 21/600\n",
      "10/10 [==============================] - 0s 2ms/step - loss: 1.2472\n",
      "Epoch 22/600\n",
      "10/10 [==============================] - 0s 5ms/step - loss: 1.3289\n",
      "Epoch 23/600\n",
      "10/10 [==============================] - 0s 4ms/step - loss: 1.3580\n",
      "Epoch 24/600\n",
      "10/10 [==============================] - 0s 5ms/step - loss: 1.3194\n",
      "Epoch 25/600\n",
      "10/10 [==============================] - 0s 5ms/step - loss: 1.3189\n",
      "Epoch 26/600\n",
      "10/10 [==============================] - 0s 4ms/step - loss: 1.2691\n",
      "Epoch 27/600\n",
      "10/10 [==============================] - 0s 2ms/step - loss: 1.3664\n",
      "Epoch 28/600\n",
      "10/10 [==============================] - 0s 5ms/step - loss: 1.3527\n",
      "Epoch 29/600\n",
      "10/10 [==============================] - 0s 3ms/step - loss: 1.1396\n",
      "Epoch 30/600\n",
      "10/10 [==============================] - 0s 4ms/step - loss: 1.4092\n",
      "Epoch 31/600\n",
      "10/10 [==============================] - 0s 3ms/step - loss: 1.2700\n",
      "Epoch 32/600\n",
      "10/10 [==============================] - 0s 3ms/step - loss: 1.2544\n",
      "Epoch 33/600\n",
      "10/10 [==============================] - 0s 3ms/step - loss: 1.3251\n",
      "Epoch 34/600\n",
      "10/10 [==============================] - 0s 4ms/step - loss: 1.2202\n",
      "Epoch 35/600\n",
      "10/10 [==============================] - 0s 3ms/step - loss: 1.3158\n",
      "Epoch 36/600\n",
      "10/10 [==============================] - 0s 4ms/step - loss: 1.2614\n",
      "Epoch 37/600\n",
      "10/10 [==============================] - 0s 2ms/step - loss: 1.2222\n",
      "Epoch 38/600\n",
      "10/10 [==============================] - 0s 3ms/step - loss: 1.3827\n",
      "Epoch 39/600\n",
      "10/10 [==============================] - 0s 3ms/step - loss: 1.1420\n",
      "Epoch 40/600\n",
      "10/10 [==============================] - 0s 3ms/step - loss: 1.1373\n",
      "Epoch 41/600\n",
      "10/10 [==============================] - 0s 3ms/step - loss: 1.2864\n",
      "Epoch 42/600\n",
      "10/10 [==============================] - 0s 3ms/step - loss: 1.2710\n",
      "Epoch 43/600\n",
      "10/10 [==============================] - 0s 4ms/step - loss: 1.3664\n",
      "Epoch 44/600\n",
      "10/10 [==============================] - 0s 4ms/step - loss: 0.9662\n",
      "Epoch 45/600\n",
      "10/10 [==============================] - 0s 3ms/step - loss: 1.3082\n",
      "Epoch 46/600\n",
      "10/10 [==============================] - 0s 3ms/step - loss: 1.1561\n",
      "Epoch 47/600\n",
      "10/10 [==============================] - 0s 3ms/step - loss: 1.4077\n",
      "Epoch 48/600\n",
      "10/10 [==============================] - 0s 5ms/step - loss: 1.0267\n",
      "Epoch 49/600\n",
      "10/10 [==============================] - 0s 3ms/step - loss: 1.0710\n",
      "Epoch 50/600\n",
      "10/10 [==============================] - 0s 3ms/step - loss: 1.3043\n",
      "Epoch 51/600\n",
      "10/10 [==============================] - 0s 3ms/step - loss: 1.1642\n",
      "Epoch 52/600\n",
      "10/10 [==============================] - 0s 3ms/step - loss: 1.1111\n",
      "Epoch 53/600\n",
      "10/10 [==============================] - 0s 4ms/step - loss: 1.1357\n",
      "Epoch 54/600\n",
      "10/10 [==============================] - 0s 3ms/step - loss: 1.2380\n",
      "Epoch 55/600\n",
      "10/10 [==============================] - 0s 3ms/step - loss: 1.1366\n",
      "Epoch 56/600\n",
      "10/10 [==============================] - 0s 2ms/step - loss: 1.1724\n",
      "Epoch 57/600\n",
      "10/10 [==============================] - 0s 2ms/step - loss: 1.1261\n",
      "Epoch 58/600\n",
      "10/10 [==============================] - 0s 3ms/step - loss: 1.2721\n",
      "Epoch 59/600\n",
      "10/10 [==============================] - 0s 2ms/step - loss: 1.0703\n",
      "Epoch 60/600\n",
      "10/10 [==============================] - 0s 2ms/step - loss: 1.0420\n",
      "Epoch 61/600\n",
      "10/10 [==============================] - 0s 2ms/step - loss: 0.9225\n",
      "Epoch 62/600\n",
      "10/10 [==============================] - 0s 3ms/step - loss: 1.5255\n",
      "Epoch 63/600\n",
      "10/10 [==============================] - 0s 2ms/step - loss: 0.9208\n",
      "Epoch 64/600\n",
      "10/10 [==============================] - 0s 2ms/step - loss: 1.3034\n",
      "Epoch 65/600\n",
      "10/10 [==============================] - 0s 2ms/step - loss: 0.8343\n",
      "Epoch 66/600\n",
      "10/10 [==============================] - 0s 2ms/step - loss: 1.2204\n",
      "Epoch 67/600\n",
      "10/10 [==============================] - 0s 2ms/step - loss: 1.2182\n",
      "Epoch 68/600\n",
      "10/10 [==============================] - 0s 2ms/step - loss: 0.9561\n",
      "Epoch 69/600\n",
      "10/10 [==============================] - 0s 2ms/step - loss: 1.1742\n",
      "Epoch 70/600\n",
      "10/10 [==============================] - 0s 1ms/step - loss: 1.2138\n",
      "Epoch 71/600\n",
      "10/10 [==============================] - 0s 1ms/step - loss: 1.0940\n",
      "Epoch 72/600\n",
      "10/10 [==============================] - 0s 2ms/step - loss: 1.0296\n",
      "Epoch 73/600\n",
      "10/10 [==============================] - 0s 3ms/step - loss: 1.1504\n",
      "Epoch 74/600\n",
      "10/10 [==============================] - 0s 2ms/step - loss: 1.1095\n",
      "Epoch 75/600\n",
      "10/10 [==============================] - 0s 3ms/step - loss: 1.0677\n",
      "Epoch 76/600\n",
      "10/10 [==============================] - 0s 2ms/step - loss: 1.0253\n",
      "Epoch 77/600\n",
      "10/10 [==============================] - 0s 2ms/step - loss: 1.1475\n",
      "Epoch 78/600\n",
      "10/10 [==============================] - 0s 2ms/step - loss: 1.1444\n",
      "Epoch 79/600\n",
      "10/10 [==============================] - 0s 2ms/step - loss: 1.2840\n",
      "Epoch 80/600\n",
      "10/10 [==============================] - 0s 2ms/step - loss: 0.7822\n",
      "Epoch 81/600\n",
      "10/10 [==============================] - 0s 2ms/step - loss: 1.2409\n",
      "Epoch 82/600\n",
      "10/10 [==============================] - 0s 2ms/step - loss: 1.0790\n",
      "Epoch 83/600\n",
      "10/10 [==============================] - 0s 2ms/step - loss: 1.0187\n",
      "Epoch 84/600\n",
      "10/10 [==============================] - 0s 3ms/step - loss: 1.1999\n",
      "Epoch 85/600\n",
      "10/10 [==============================] - 0s 2ms/step - loss: 1.1353\n",
      "Epoch 86/600\n",
      "10/10 [==============================] - 0s 4ms/step - loss: 0.9172\n",
      "Epoch 87/600\n",
      "10/10 [==============================] - 0s 3ms/step - loss: 1.2340\n",
      "Epoch 88/600\n",
      "10/10 [==============================] - 0s 2ms/step - loss: 1.2326\n",
      "Epoch 89/600\n",
      "10/10 [==============================] - 0s 2ms/step - loss: 1.0320\n",
      "Epoch 90/600\n",
      "10/10 [==============================] - 0s 2ms/step - loss: 1.0121\n",
      "Epoch 91/600\n",
      "10/10 [==============================] - 0s 2ms/step - loss: 0.9902\n",
      "Epoch 92/600\n",
      "10/10 [==============================] - 0s 1ms/step - loss: 1.0102\n",
      "Epoch 93/600\n",
      "10/10 [==============================] - 0s 2ms/step - loss: 1.2661\n",
      "Epoch 94/600\n",
      "10/10 [==============================] - 0s 2ms/step - loss: 1.2258\n",
      "Epoch 95/600\n",
      "10/10 [==============================] - 0s 2ms/step - loss: 0.9849\n",
      "Epoch 96/600\n",
      "10/10 [==============================] - 0s 3ms/step - loss: 1.0454\n",
      "Epoch 97/600\n",
      "10/10 [==============================] - 0s 3ms/step - loss: 1.0833\n",
      "Epoch 98/600\n",
      "10/10 [==============================] - 0s 2ms/step - loss: 1.0430\n",
      "Epoch 99/600\n",
      "10/10 [==============================] - 0s 3ms/step - loss: 1.1196\n",
      "Epoch 100/600\n",
      "10/10 [==============================] - 0s 8ms/step - loss: 1.1812\n",
      "Epoch 101/600\n",
      "10/10 [==============================] - 0s 4ms/step - loss: 1.0011\n",
      "Epoch 102/600\n",
      "10/10 [==============================] - 0s 4ms/step - loss: 1.0537\n",
      "Epoch 103/600\n",
      "10/10 [==============================] - 0s 2ms/step - loss: 1.1776\n",
      "Epoch 104/600\n",
      "10/10 [==============================] - 0s 1ms/step - loss: 0.7977\n",
      "Epoch 105/600\n",
      "10/10 [==============================] - 0s 4ms/step - loss: 1.2503\n",
      "Epoch 106/600\n",
      "10/10 [==============================] - 0s 4ms/step - loss: 1.0106\n",
      "Epoch 107/600\n",
      "10/10 [==============================] - 0s 2ms/step - loss: 1.3339\n",
      "Epoch 108/600\n",
      "10/10 [==============================] - 0s 2ms/step - loss: 0.8704\n",
      "Epoch 109/600\n",
      "10/10 [==============================] - 0s 2ms/step - loss: 1.1703\n",
      "Epoch 110/600\n",
      "10/10 [==============================] - 0s 2ms/step - loss: 1.0682\n",
      "Epoch 111/600\n",
      "10/10 [==============================] - 0s 2ms/step - loss: 0.9671\n",
      "Epoch 112/600\n",
      "10/10 [==============================] - 0s 2ms/step - loss: 1.1034\n",
      "Epoch 113/600\n",
      "10/10 [==============================] - 0s 2ms/step - loss: 1.0649\n",
      "Epoch 114/600\n",
      "10/10 [==============================] - 0s 2ms/step - loss: 1.0263\n",
      "Epoch 115/600\n",
      "10/10 [==============================] - 0s 2ms/step - loss: 1.1253\n",
      "Epoch 116/600\n",
      "10/10 [==============================] - 0s 4ms/step - loss: 0.8957\n",
      "Epoch 117/600\n",
      "10/10 [==============================] - 0s 4ms/step - loss: 1.1642\n",
      "Epoch 118/600\n",
      "10/10 [==============================] - 0s 3ms/step - loss: 0.9838\n",
      "Epoch 119/600\n",
      "10/10 [==============================] - 0s 3ms/step - loss: 1.2331\n",
      "Epoch 120/600\n",
      "10/10 [==============================] - 0s 2ms/step - loss: 0.9580\n",
      "Epoch 121/600\n",
      "10/10 [==============================] - 0s 3ms/step - loss: 1.0567\n",
      "Epoch 122/600\n",
      "10/10 [==============================] - 0s 2ms/step - loss: 1.0180\n",
      "Epoch 123/600\n",
      "10/10 [==============================] - 0s 2ms/step - loss: 1.0904\n",
      "Epoch 124/600\n",
      "10/10 [==============================] - 0s 1ms/step - loss: 1.1164\n",
      "Epoch 125/600\n",
      "10/10 [==============================] - 0s 3ms/step - loss: 0.9877\n",
      "Epoch 126/600\n",
      "10/10 [==============================] - 0s 2ms/step - loss: 1.0504\n",
      "Epoch 127/600\n",
      "10/10 [==============================] - 0s 2ms/step - loss: 1.2220\n",
      "Epoch 128/600\n",
      "10/10 [==============================] - 0s 3ms/step - loss: 0.9018\n",
      "Epoch 129/600\n",
      "10/10 [==============================] - 0s 2ms/step - loss: 1.0196\n",
      "Epoch 130/600\n",
      "10/10 [==============================] - 0s 2ms/step - loss: 1.1454\n",
      "Epoch 131/600\n",
      "10/10 [==============================] - 0s 2ms/step - loss: 1.1450\n",
      "Epoch 132/600\n",
      "10/10 [==============================] - 0s 2ms/step - loss: 0.8435\n",
      "Epoch 133/600\n",
      "10/10 [==============================] - 0s 2ms/step - loss: 1.2139\n",
      "Epoch 134/600\n",
      "10/10 [==============================] - 0s 1ms/step - loss: 0.7325\n",
      "Epoch 135/600\n",
      "10/10 [==============================] - 0s 1ms/step - loss: 1.1765\n",
      "Epoch 136/600\n",
      "10/10 [==============================] - 0s 2ms/step - loss: 0.9026\n",
      "Epoch 137/600\n",
      "10/10 [==============================] - 0s 3ms/step - loss: 1.1740\n",
      "Epoch 138/600\n",
      "10/10 [==============================] - 0s 3ms/step - loss: 1.0370\n",
      "Epoch 139/600\n",
      "10/10 [==============================] - 0s 3ms/step - loss: 1.0005\n",
      "Epoch 140/600\n",
      "10/10 [==============================] - 0s 3ms/step - loss: 1.1694\n",
      "Epoch 141/600\n",
      "10/10 [==============================] - 0s 2ms/step - loss: 0.9335\n",
      "Epoch 142/600\n",
      "10/10 [==============================] - 0s 3ms/step - loss: 1.2029\n",
      "Epoch 143/600\n",
      "10/10 [==============================] - 0s 2ms/step - loss: 0.8953\n",
      "Epoch 144/600\n",
      "10/10 [==============================] - 0s 3ms/step - loss: 0.9947\n",
      "Epoch 145/600\n",
      "10/10 [==============================] - 0s 2ms/step - loss: 0.8288\n",
      "Epoch 146/600\n",
      "10/10 [==============================] - 0s 2ms/step - loss: 1.3275\n",
      "Epoch 147/600\n",
      "10/10 [==============================] - 0s 1ms/step - loss: 0.9266\n",
      "Epoch 148/600\n",
      "10/10 [==============================] - 0s 3ms/step - loss: 0.9946\n",
      "Epoch 149/600\n",
      "10/10 [==============================] - 0s 3ms/step - loss: 0.8856\n",
      "Epoch 150/600\n",
      "10/10 [==============================] - 0s 3ms/step - loss: 1.1928\n",
      "Epoch 151/600\n",
      "10/10 [==============================] - 0s 4ms/step - loss: 1.1222\n",
      "Epoch 152/600\n",
      "10/10 [==============================] - 0s 4ms/step - loss: 0.7516\n",
      "Epoch 153/600\n",
      "10/10 [==============================] - 0s 3ms/step - loss: 1.1897\n",
      "Epoch 154/600\n",
      "10/10 [==============================] - 0s 4ms/step - loss: 1.1216\n",
      "Epoch 155/600\n",
      "10/10 [==============================] - 0s 3ms/step - loss: 0.9811\n",
      "Epoch 156/600\n",
      "10/10 [==============================] - 0s 4ms/step - loss: 0.9512\n",
      "Epoch 157/600\n",
      "10/10 [==============================] - 0s 2ms/step - loss: 1.1155\n",
      "Epoch 158/600\n",
      "10/10 [==============================] - 0s 3ms/step - loss: 0.9143\n",
      "Epoch 159/600\n",
      "10/10 [==============================] - 0s 2ms/step - loss: 1.0130\n",
      "Epoch 160/600\n",
      "10/10 [==============================] - 0s 2ms/step - loss: 1.0437\n",
      "Epoch 161/600\n",
      "10/10 [==============================] - 0s 3ms/step - loss: 1.1785\n",
      "Epoch 162/600\n",
      "10/10 [==============================] - 0s 2ms/step - loss: 0.8100\n",
      "Epoch 163/600\n",
      "10/10 [==============================] - 0s 1ms/step - loss: 1.1092\n",
      "Epoch 164/600\n",
      "10/10 [==============================] - 0s 2ms/step - loss: 0.8742\n",
      "Epoch 165/600\n",
      "10/10 [==============================] - 0s 2ms/step - loss: 1.0391\n",
      "Epoch 166/600\n",
      "10/10 [==============================] - 0s 4ms/step - loss: 1.1722\n",
      "Epoch 167/600\n",
      "10/10 [==============================] - 0s 3ms/step - loss: 0.7695\n",
      "Epoch 168/600\n",
      "10/10 [==============================] - 0s 3ms/step - loss: 1.0703\n",
      "Epoch 169/600\n",
      "10/10 [==============================] - 0s 2ms/step - loss: 0.9689\n",
      "Epoch 170/600\n",
      "10/10 [==============================] - 0s 2ms/step - loss: 1.1670\n",
      "Epoch 171/600\n",
      "10/10 [==============================] - 0s 2ms/step - loss: 0.8656\n",
      "Epoch 172/600\n",
      "10/10 [==============================] - 0s 2ms/step - loss: 0.9642\n",
      "Epoch 173/600\n",
      "10/10 [==============================] - 0s 2ms/step - loss: 1.0968\n",
      "Epoch 174/600\n",
      "10/10 [==============================] - 0s 2ms/step - loss: 0.9303\n",
      "Epoch 175/600\n",
      "10/10 [==============================] - 0s 2ms/step - loss: 1.1607\n",
      "Epoch 176/600\n",
      "10/10 [==============================] - 0s 3ms/step - loss: 0.9609\n",
      "Epoch 177/600\n",
      "10/10 [==============================] - 0s 3ms/step - loss: 0.8596\n",
      "Epoch 178/600\n",
      "10/10 [==============================] - 0s 4ms/step - loss: 0.8914\n",
      "Epoch 179/600\n",
      "10/10 [==============================] - 0s 4ms/step - loss: 0.9907\n",
      "Epoch 180/600\n",
      "10/10 [==============================] - 0s 2ms/step - loss: 1.0894\n",
      "Epoch 181/600\n",
      "10/10 [==============================] - 0s 3ms/step - loss: 0.9878\n",
      "Epoch 182/600\n",
      "10/10 [==============================] - 0s 4ms/step - loss: 0.8880\n",
      "Epoch 183/600\n",
      "10/10 [==============================] - 0s 4ms/step - loss: 1.0845\n",
      "Epoch 184/600\n",
      "10/10 [==============================] - 0s 5ms/step - loss: 0.9534\n",
      "Epoch 185/600\n",
      "10/10 [==============================] - 0s 5ms/step - loss: 1.0522\n",
      "Epoch 186/600\n",
      "10/10 [==============================] - 0s 6ms/step - loss: 0.9459\n",
      "Epoch 187/600\n",
      "10/10 [==============================] - 0s 3ms/step - loss: 0.7808\n",
      "Epoch 188/600\n",
      "10/10 [==============================] - 0s 3ms/step - loss: 1.0818\n",
      "Epoch 189/600\n",
      "10/10 [==============================] - 0s 3ms/step - loss: 1.0785\n",
      "Epoch 190/600\n",
      "10/10 [==============================] - 0s 3ms/step - loss: 0.9780\n",
      "Epoch 191/600\n",
      "10/10 [==============================] - 0s 3ms/step - loss: 0.9076\n",
      "Epoch 192/600\n",
      "10/10 [==============================] - 0s 3ms/step - loss: 1.0439\n",
      "Epoch 193/600\n",
      "10/10 [==============================] - 0s 4ms/step - loss: 1.0744\n",
      "Epoch 194/600\n",
      "10/10 [==============================] - 0s 2ms/step - loss: 0.8424\n",
      "Epoch 195/600\n",
      "10/10 [==============================] - 0s 3ms/step - loss: 1.0032\n",
      "Epoch 196/600\n",
      "10/10 [==============================] - 0s 3ms/step - loss: 1.0704\n",
      "Epoch 197/600\n",
      "10/10 [==============================] - 0s 2ms/step - loss: 0.9702\n",
      "Epoch 198/600\n",
      "10/10 [==============================] - 0s 2ms/step - loss: 0.8689\n",
      "Epoch 199/600\n",
      "10/10 [==============================] - 0s 2ms/step - loss: 0.7672\n",
      "Epoch 200/600\n",
      "10/10 [==============================] - 0s 3ms/step - loss: 1.2670\n",
      "Epoch 201/600\n",
      "10/10 [==============================] - 0s 4ms/step - loss: 0.8655\n",
      "Epoch 202/600\n",
      "10/10 [==============================] - 0s 3ms/step - loss: 0.8640\n",
      "Epoch 203/600\n",
      "10/10 [==============================] - 0s 4ms/step - loss: 1.1631\n",
      "Epoch 204/600\n",
      "10/10 [==============================] - 0s 2ms/step - loss: 0.8619\n",
      "Epoch 205/600\n",
      "10/10 [==============================] - 0s 2ms/step - loss: 0.7605\n",
      "Epoch 206/600\n",
      "10/10 [==============================] - 0s 2ms/step - loss: 1.1291\n",
      "Epoch 207/600\n",
      "10/10 [==============================] - 0s 2ms/step - loss: 0.9892\n",
      "Epoch 208/600\n",
      "10/10 [==============================] - 0s 2ms/step - loss: 0.9175\n",
      "Epoch 209/600\n",
      "10/10 [==============================] - 0s 2ms/step - loss: 1.0964\n",
      "Epoch 210/600\n",
      "10/10 [==============================] - 0s 2ms/step - loss: 0.8552\n",
      "Epoch 211/600\n",
      "10/10 [==============================] - 0s 3ms/step - loss: 0.8934\n",
      "Epoch 212/600\n",
      "10/10 [==============================] - 0s 3ms/step - loss: 1.0734\n",
      "Epoch 213/600\n",
      "10/10 [==============================] - 0s 4ms/step - loss: 0.8914\n",
      "Epoch 214/600\n",
      "10/10 [==============================] - 0s 2ms/step - loss: 0.8194\n",
      "Epoch 215/600\n",
      "10/10 [==============================] - 0s 2ms/step - loss: 0.9506\n",
      "Epoch 216/600\n",
      "10/10 [==============================] - 0s 2ms/step - loss: 1.0793\n",
      "Epoch 217/600\n",
      "10/10 [==============================] - 0s 2ms/step - loss: 0.8873\n",
      "Epoch 218/600\n",
      "10/10 [==============================] - 0s 2ms/step - loss: 0.9080\n",
      "Epoch 219/600\n",
      "10/10 [==============================] - 0s 2ms/step - loss: 1.0438\n",
      "Epoch 220/600\n",
      "10/10 [==============================] - 0s 2ms/step - loss: 0.7429\n",
      "Epoch 221/600\n",
      "10/10 [==============================] - 0s 4ms/step - loss: 1.2143\n",
      "Epoch 222/600\n",
      "10/10 [==============================] - 0s 3ms/step - loss: 0.8712\n",
      "Epoch 223/600\n",
      "10/10 [==============================] - 0s 4ms/step - loss: 0.8106\n",
      "Epoch 224/600\n",
      "10/10 [==============================] - 0s 4ms/step - loss: 0.9984\n",
      "Epoch 225/600\n",
      "10/10 [==============================] - 0s 3ms/step - loss: 1.0091\n",
      "Epoch 226/600\n",
      "10/10 [==============================] - 0s 3ms/step - loss: 0.9081\n",
      "Epoch 227/600\n",
      "10/10 [==============================] - 0s 2ms/step - loss: 0.8649\n",
      "Epoch 228/600\n",
      "10/10 [==============================] - 0s 2ms/step - loss: 1.0351\n",
      "Epoch 229/600\n",
      "10/10 [==============================] - 0s 2ms/step - loss: 0.9338\n",
      "Epoch 230/600\n",
      "10/10 [==============================] - 0s 3ms/step - loss: 0.8331\n",
      "Epoch 231/600\n",
      "10/10 [==============================] - 0s 4ms/step - loss: 1.0322\n",
      "Epoch 232/600\n",
      "10/10 [==============================] - 0s 4ms/step - loss: 1.0306\n",
      "Epoch 233/600\n",
      "10/10 [==============================] - 0s 3ms/step - loss: 0.6999\n",
      "Epoch 234/600\n",
      "10/10 [==============================] - 0s 2ms/step - loss: 1.0573\n",
      "Epoch 235/600\n",
      "10/10 [==============================] - 0s 3ms/step - loss: 0.9536\n",
      "Epoch 236/600\n",
      "10/10 [==============================] - 0s 1ms/step - loss: 1.1014\n",
      "Epoch 237/600\n",
      "10/10 [==============================] - 0s 2ms/step - loss: 0.7232\n",
      "Epoch 238/600\n",
      "10/10 [==============================] - 0s 1ms/step - loss: 0.8666\n",
      "Epoch 239/600\n",
      "10/10 [==============================] - 0s 2ms/step - loss: 1.1807\n",
      "Epoch 240/600\n",
      "10/10 [==============================] - 0s 3ms/step - loss: 0.7210\n",
      "Epoch 241/600\n",
      "10/10 [==============================] - 0s 4ms/step - loss: 0.9200\n",
      "Epoch 242/600\n",
      "10/10 [==============================] - 0s 3ms/step - loss: 0.9635\n",
      "Epoch 243/600\n",
      "10/10 [==============================] - 0s 3ms/step - loss: 0.8730\n",
      "Epoch 244/600\n",
      "10/10 [==============================] - 0s 4ms/step - loss: 0.8897\n",
      "Epoch 245/600\n",
      "10/10 [==============================] - 0s 3ms/step - loss: 0.9989\n",
      "Epoch 246/600\n",
      "10/10 [==============================] - 0s 3ms/step - loss: 0.8588\n",
      "Epoch 247/600\n",
      "10/10 [==============================] - 0s 2ms/step - loss: 0.9137\n",
      "Epoch 248/600\n",
      "10/10 [==============================] - 0s 4ms/step - loss: 0.9572\n",
      "Epoch 249/600\n",
      "10/10 [==============================] - 0s 4ms/step - loss: 0.8661\n",
      "Epoch 250/600\n",
      "10/10 [==============================] - 0s 3ms/step - loss: 1.0376\n",
      "Epoch 251/600\n",
      "10/10 [==============================] - 0s 3ms/step - loss: 0.7354\n",
      "Epoch 252/600\n",
      "10/10 [==============================] - 0s 3ms/step - loss: 0.9536\n",
      "Epoch 253/600\n",
      "10/10 [==============================] - 0s 2ms/step - loss: 1.0606\n",
      "Epoch 254/600\n",
      "10/10 [==============================] - 0s 3ms/step - loss: 0.6780\n",
      "Epoch 255/600\n",
      "10/10 [==============================] - 0s 2ms/step - loss: 0.9774\n",
      "Epoch 256/600\n",
      "10/10 [==============================] - 0s 4ms/step - loss: 0.8298\n",
      "Epoch 257/600\n",
      "10/10 [==============================] - 0s 3ms/step - loss: 0.9017\n",
      "Epoch 258/600\n",
      "10/10 [==============================] - 0s 3ms/step - loss: 0.9744\n",
      "Epoch 259/600\n",
      "10/10 [==============================] - 0s 3ms/step - loss: 1.0263\n",
      "Epoch 260/600\n",
      "10/10 [==============================] - 0s 3ms/step - loss: 0.6982\n",
      "Epoch 261/600\n",
      "10/10 [==============================] - 0s 2ms/step - loss: 0.9713\n",
      "Epoch 262/600\n",
      "10/10 [==============================] - 0s 5ms/step - loss: 0.6962\n",
      "Epoch 263/600\n",
      "10/10 [==============================] - 0s 5ms/step - loss: 1.1692\n",
      "Epoch 264/600\n",
      "10/10 [==============================] - 0s 3ms/step - loss: 0.8207\n",
      "Epoch 265/600\n",
      "10/10 [==============================] - 0s 4ms/step - loss: 0.8406\n",
      "Epoch 266/600\n",
      "10/10 [==============================] - 0s 3ms/step - loss: 0.8181\n",
      "Epoch 267/600\n",
      "10/10 [==============================] - 0s 4ms/step - loss: 1.0167\n",
      "Epoch 268/600\n",
      "10/10 [==============================] - 0s 4ms/step - loss: 0.8410\n",
      "Epoch 269/600\n",
      "10/10 [==============================] - 0s 3ms/step - loss: 0.9117\n",
      "Epoch 270/600\n",
      "10/10 [==============================] - 0s 5ms/step - loss: 0.9130\n",
      "Epoch 271/600\n",
      "10/10 [==============================] - 0s 4ms/step - loss: 1.0381\n",
      "Epoch 272/600\n",
      "10/10 [==============================] - 0s 3ms/step - loss: 0.5821\n",
      "Epoch 273/600\n",
      "10/10 [==============================] - 0s 4ms/step - loss: 1.0355\n",
      "Epoch 274/600\n",
      "10/10 [==============================] - 0s 4ms/step - loss: 0.9585\n",
      "Epoch 275/600\n",
      "10/10 [==============================] - 0s 5ms/step - loss: 0.8810\n",
      "Epoch 276/600\n",
      "10/10 [==============================] - 0s 5ms/step - loss: 0.8064\n",
      "Epoch 277/600\n",
      "10/10 [==============================] - 0s 4ms/step - loss: 0.9784\n",
      "Epoch 278/600\n",
      "10/10 [==============================] - 0s 4ms/step - loss: 0.6798\n",
      "Epoch 279/600\n",
      "10/10 [==============================] - 0s 3ms/step - loss: 0.9772\n",
      "Epoch 280/600\n",
      "10/10 [==============================] - 0s 3ms/step - loss: 1.0026\n",
      "Epoch 281/600\n",
      "10/10 [==============================] - 0s 3ms/step - loss: 0.9503\n",
      "Epoch 282/600\n",
      "10/10 [==============================] - 0s 2ms/step - loss: 0.6730\n",
      "Epoch 283/600\n",
      "10/10 [==============================] - 0s 4ms/step - loss: 1.0222\n",
      "Epoch 284/600\n",
      "10/10 [==============================] - 0s 3ms/step - loss: 0.6974\n",
      "Epoch 285/600\n",
      "10/10 [==============================] - 0s 5ms/step - loss: 0.8948\n",
      "Epoch 286/600\n",
      "10/10 [==============================] - 0s 2ms/step - loss: 0.9448\n",
      "Epoch 287/600\n",
      "10/10 [==============================] - 0s 2ms/step - loss: 0.8675\n",
      "Epoch 288/600\n",
      "10/10 [==============================] - 0s 2ms/step - loss: 0.7919\n",
      "Epoch 289/600\n",
      "10/10 [==============================] - 0s 2ms/step - loss: 0.7660\n",
      "Epoch 290/600\n",
      "10/10 [==============================] - 0s 3ms/step - loss: 1.0401\n",
      "Epoch 291/600\n",
      "10/10 [==============================] - 0s 2ms/step - loss: 0.7880\n",
      "Epoch 292/600\n",
      "10/10 [==============================] - 0s 3ms/step - loss: 0.9624\n",
      "Epoch 293/600\n",
      "10/10 [==============================] - 0s 2ms/step - loss: 0.8372\n",
      "Epoch 294/600\n",
      "10/10 [==============================] - 0s 3ms/step - loss: 0.7845\n",
      "Epoch 295/600\n",
      "10/10 [==============================] - 0s 2ms/step - loss: 0.8825\n",
      "Epoch 296/600\n",
      "10/10 [==============================] - 0s 2ms/step - loss: 0.9350\n",
      "Epoch 297/600\n",
      "10/10 [==============================] - 0s 2ms/step - loss: 0.7572\n",
      "Epoch 298/600\n",
      "10/10 [==============================] - 0s 2ms/step - loss: 1.0028\n",
      "Epoch 299/600\n",
      "10/10 [==============================] - 0s 2ms/step - loss: 0.5835\n",
      "Epoch 300/600\n",
      "10/10 [==============================] - 0s 2ms/step - loss: 0.9769\n",
      "Epoch 301/600\n",
      "10/10 [==============================] - 0s 2ms/step - loss: 0.8530\n",
      "Epoch 302/600\n",
      "10/10 [==============================] - 0s 2ms/step - loss: 0.7735\n",
      "Epoch 303/600\n",
      "10/10 [==============================] - 0s 2ms/step - loss: 0.9272\n",
      "Epoch 304/600\n",
      "10/10 [==============================] - 0s 2ms/step - loss: 0.7721\n",
      "Epoch 305/600\n",
      "10/10 [==============================] - 0s 3ms/step - loss: 0.9784\n",
      "Epoch 306/600\n",
      "10/10 [==============================] - 0s 3ms/step - loss: 0.7928\n",
      "Epoch 307/600\n",
      "10/10 [==============================] - 0s 3ms/step - loss: 0.8678\n",
      "Epoch 308/600\n",
      "10/10 [==============================] - 0s 2ms/step - loss: 0.9217\n",
      "Epoch 309/600\n",
      "10/10 [==============================] - 0s 3ms/step - loss: 0.7436\n",
      "Epoch 310/600\n",
      "10/10 [==============================] - 0s 3ms/step - loss: 0.9648\n",
      "Epoch 311/600\n",
      "10/10 [==============================] - 0s 2ms/step - loss: 0.8413\n",
      "Epoch 312/600\n",
      "10/10 [==============================] - 0s 2ms/step - loss: 0.7168\n",
      "Epoch 313/600\n",
      "10/10 [==============================] - 0s 2ms/step - loss: 0.8386\n",
      "Epoch 314/600\n",
      "10/10 [==============================] - 0s 3ms/step - loss: 0.8935\n",
      "Epoch 315/600\n",
      "10/10 [==============================] - 0s 2ms/step - loss: 0.7806\n",
      "Epoch 316/600\n",
      "10/10 [==============================] - 0s 3ms/step - loss: 0.9351\n",
      "Epoch 317/600\n",
      "10/10 [==============================] - 0s 3ms/step - loss: 0.7566\n",
      "Epoch 318/600\n",
      "10/10 [==============================] - 0s 3ms/step - loss: 0.8112\n",
      "Epoch 319/600\n",
      "10/10 [==============================] - 0s 3ms/step - loss: 0.7095\n",
      "Epoch 320/600\n",
      "10/10 [==============================] - 0s 4ms/step - loss: 0.9745\n",
      "Epoch 321/600\n",
      "10/10 [==============================] - 0s 2ms/step - loss: 0.8084\n",
      "Epoch 322/600\n",
      "10/10 [==============================] - 0s 2ms/step - loss: 0.8506\n",
      "Epoch 323/600\n",
      "10/10 [==============================] - 0s 3ms/step - loss: 0.6620\n",
      "Epoch 324/600\n",
      "10/10 [==============================] - 0s 4ms/step - loss: 0.9698\n",
      "Epoch 325/600\n",
      "10/10 [==============================] - 0s 4ms/step - loss: 0.9265\n",
      "Epoch 326/600\n",
      "10/10 [==============================] - 0s 2ms/step - loss: 0.6221\n",
      "Epoch 327/600\n",
      "10/10 [==============================] - 0s 3ms/step - loss: 0.9244\n",
      "Epoch 328/600\n",
      "10/10 [==============================] - 0s 2ms/step - loss: 0.9008\n",
      "Epoch 329/600\n",
      "10/10 [==============================] - 0s 3ms/step - loss: 0.7993\n",
      "Epoch 330/600\n",
      "10/10 [==============================] - 0s 2ms/step - loss: 0.7621\n",
      "Epoch 331/600\n",
      "10/10 [==============================] - 0s 3ms/step - loss: 0.6975\n",
      "Epoch 332/600\n",
      "10/10 [==============================] - 0s 4ms/step - loss: 0.9821\n",
      "Epoch 333/600\n",
      "10/10 [==============================] - 0s 4ms/step - loss: 0.7733\n",
      "Epoch 334/600\n",
      "10/10 [==============================] - 0s 3ms/step - loss: 0.7728\n",
      "Epoch 335/600\n",
      "10/10 [==============================] - 0s 4ms/step - loss: 0.7349\n",
      "Epoch 336/600\n",
      "10/10 [==============================] - 0s 3ms/step - loss: 0.9335\n",
      "Epoch 337/600\n",
      "10/10 [==============================] - 0s 3ms/step - loss: 0.6907\n",
      "Epoch 338/600\n",
      "10/10 [==============================] - 0s 3ms/step - loss: 0.9516\n",
      "Epoch 339/600\n",
      "10/10 [==============================] - 0s 2ms/step - loss: 0.7885\n",
      "Epoch 340/600\n",
      "10/10 [==============================] - 0s 3ms/step - loss: 0.9087\n",
      "Epoch 341/600\n",
      "10/10 [==============================] - 0s 4ms/step - loss: 0.7069\n",
      "Epoch 342/600\n",
      "10/10 [==============================] - 0s 4ms/step - loss: 0.8064\n",
      "Epoch 343/600\n",
      "10/10 [==============================] - 0s 2ms/step - loss: 0.9071\n",
      "Epoch 344/600\n",
      "10/10 [==============================] - 0s 2ms/step - loss: 0.6216\n",
      "Epoch 345/600\n",
      "10/10 [==============================] - 0s 2ms/step - loss: 0.8837\n",
      "Epoch 346/600\n",
      "10/10 [==============================] - 0s 2ms/step - loss: 0.7607\n",
      "Epoch 347/600\n",
      "10/10 [==============================] - 0s 2ms/step - loss: 0.7207\n",
      "Epoch 348/600\n",
      "10/10 [==============================] - 0s 2ms/step - loss: 0.9191\n",
      "Epoch 349/600\n",
      "10/10 [==============================] - 0s 2ms/step - loss: 0.6985\n",
      "Epoch 350/600\n",
      "10/10 [==============================] - 0s 3ms/step - loss: 1.0170\n",
      "Epoch 351/600\n",
      "10/10 [==============================] - 0s 3ms/step - loss: 0.6755\n",
      "Epoch 352/600\n",
      "10/10 [==============================] - 0s 4ms/step - loss: 0.9339\n",
      "Epoch 353/600\n",
      "10/10 [==============================] - 0s 3ms/step - loss: 0.6540\n",
      "Epoch 354/600\n",
      "10/10 [==============================] - 0s 3ms/step - loss: 0.7923\n",
      "Epoch 355/600\n",
      "10/10 [==============================] - 0s 6ms/step - loss: 0.8906\n",
      "Epoch 356/600\n",
      "10/10 [==============================] - 0s 3ms/step - loss: 0.6712\n",
      "Epoch 357/600\n",
      "10/10 [==============================] - 0s 3ms/step - loss: 0.8087\n",
      "Epoch 358/600\n",
      "10/10 [==============================] - 0s 4ms/step - loss: 0.9069\n",
      "Epoch 359/600\n",
      "10/10 [==============================] - 0s 4ms/step - loss: 0.7880\n",
      "Epoch 360/600\n",
      "10/10 [==============================] - 0s 3ms/step - loss: 0.6653\n",
      "Epoch 361/600\n",
      "WARNING:tensorflow:Your input ran out of data; interrupting training. Make sure that your dataset or generator can generate at least `steps_per_epoch * epochs` batches (in this case, 6000 batches). You may need to use the repeat() function when building your dataset.\n",
      "10/10 [==============================] - 0s 3ms/step - loss: 0.6653\n"
     ]
    },
    {
     "data": {
      "text/plain": [
       "<keras.callbacks.History at 0x2847f6c0610>"
      ]
     },
     "execution_count": 24,
     "metadata": {},
     "output_type": "execute_result"
    }
   ],
   "source": [
    "# Pelatihan model\n",
    "model.fit(\n",
    "    x = x, y = y,\n",
    "    epochs=600, #perulangan model\n",
    "    steps_per_epoch=10\n",
    ")"
   ]
  },
  {
   "cell_type": "markdown",
   "metadata": {},
   "source": [
    "# MNIST"
   ]
  },
  {
   "cell_type": "markdown",
   "metadata": {},
   "source": [
    "### Load Data"
   ]
  },
  {
   "cell_type": "code",
   "execution_count": 26,
   "metadata": {},
   "outputs": [],
   "source": [
    "(x_train_raw, y_train_raw),(x_test_raw, y_test_raw) = tfds.mnist.load_data()"
   ]
  },
  {
   "cell_type": "code",
   "execution_count": 28,
   "metadata": {},
   "outputs": [
    {
     "name": "stdout",
     "output_type": "stream",
     "text": [
      "panjang x train: 60000\n",
      "panjang y train: 60000\n",
      "panjang x test: 10000\n",
      "panjang y test: 10000\n"
     ]
    }
   ],
   "source": [
    "print(f'panjang x train: {len(x_train_raw)}',\n",
    "f'panjang y train: {len(y_train_raw)}',\n",
    "f'panjang x test: {len(x_test_raw)}',\n",
    "f'panjang y test: {len(y_test_raw)}',\n",
    "sep='\\n'\n",
    ")"
   ]
  },
  {
   "cell_type": "markdown",
   "metadata": {},
   "source": [
    "### Preview Gambar "
   ]
  },
  {
   "cell_type": "code",
   "execution_count": 32,
   "metadata": {},
   "outputs": [
    {
     "data": {
      "image/png": "[encoded data removed]",
      "text/plain": [
       "<Figure size 640x480 with 9 Axes>"
      ]
     },
     "metadata": {},
     "output_type": "display_data"
    }
   ],
   "source": [
    "plt.figure()\n",
    "for i in range(9):\n",
    "    plt.subplot(3,3,i+1)\n",
    "    plt.imshow(x_train_raw[i*12])\n",
    "    plt.axis('off')\n",
    "plt.show()"
   ]
  },
  {
   "cell_type": "markdown",
   "metadata": {},
   "source": [
    "### Label Encoding "
   ]
  },
  {
   "cell_type": "code",
   "execution_count": 29,
   "metadata": {},
   "outputs": [],
   "source": [
    "num_class = len(np.unique(y_train_raw))\n",
    "y_train = tf.keras.utils.to_categorical(y_train_raw, num_class)\n",
    "y_test = tf.keras.utils.to_categorical(y_test_raw, num_class)"
   ]
  },
  {
   "cell_type": "markdown",
   "metadata": {},
   "source": [
    "### Reshape x_train dan y_train"
   ]
  },
  {
   "cell_type": "code",
   "execution_count": 31,
   "metadata": {},
   "outputs": [],
   "source": [
    "x_train = tf.reshape(x_train_raw,[60000, 784])\n",
    "x_test = tf.reshape(x_test_raw,[10000, 784])"
   ]
  },
  {
   "cell_type": "code",
   "execution_count": 33,
   "metadata": {},
   "outputs": [],
   "source": [
    "x_train = tf.cast(x_train, tf.float32)/255\n",
    "x_test = tf.cast(x_test, tf.float32)/255"
   ]
  },
  {
   "cell_type": "markdown",
   "metadata": {},
   "source": [
    "### Membuat Model "
   ]
  },
  {
   "cell_type": "code",
   "execution_count": 39,
   "metadata": {},
   "outputs": [
    {
     "name": "stdout",
     "output_type": "stream",
     "text": [
      "Model: \"sequential_5\"\n",
      "_________________________________________________________________\n",
      " Layer (type)                Output Shape              Param #   \n",
      "=================================================================\n",
      " dense_7 (Dense)             (None, 32)                25120     \n",
      "                                                                 \n",
      " dense_8 (Dense)             (None, 32)                1056      \n",
      "                                                                 \n",
      " dense_9 (Dense)             (None, 10)                330       \n",
      "                                                                 \n",
      "=================================================================\n",
      "Total params: 26,506\n",
      "Trainable params: 26,506\n",
      "Non-trainable params: 0\n",
      "_________________________________________________________________\n"
     ]
    }
   ],
   "source": [
    "model = tf.keras.Sequential([\n",
    "    tf.keras.layers.Dense(32, activation='relu', input_dim = 784),#layer\n",
    "    tf.keras.layers.Dense(32, activation='relu'),\n",
    "    tf.keras.layers.Dense(num_class, activation='softmax')\n",
    "])\n",
    "\n",
    "model.summary()"
   ]
  },
  {
   "cell_type": "code",
   "execution_count": 40,
   "metadata": {},
   "outputs": [],
   "source": [
    "model.compile(\n",
    "   optimizer='adam',\n",
    "   loss='categorical_crossentropy',\n",
    "   metrics=['accuracy']\n",
    ")"
   ]
  },
  {
   "cell_type": "markdown",
   "metadata": {},
   "source": [
    "### Training Model "
   ]
  },
  {
   "cell_type": "code",
   "execution_count": 41,
   "metadata": {},
   "outputs": [
    {
     "name": "stdout",
     "output_type": "stream",
     "text": [
      "Epoch 1/25\n",
      "5/5 [==============================] - 3s 281ms/step - loss: 2.2155 - accuracy: 0.2063 - val_loss: 2.0740 - val_accuracy: 0.3182\n",
      "Epoch 2/25\n",
      "5/5 [==============================] - 1s 172ms/step - loss: 1.9998 - accuracy: 0.3672 - val_loss: 1.8514 - val_accuracy: 0.4743\n",
      "Epoch 3/25\n",
      "5/5 [==============================] - 1s 158ms/step - loss: 1.7739 - accuracy: 0.5111 - val_loss: 1.6149 - val_accuracy: 0.5983\n",
      "Epoch 4/25\n",
      "5/5 [==============================] - 1s 164ms/step - loss: 1.5402 - accuracy: 0.6162 - val_loss: 1.3819 - val_accuracy: 0.6843\n",
      "Epoch 5/25\n",
      "5/5 [==============================] - 1s 146ms/step - loss: 1.3101 - accuracy: 0.6995 - val_loss: 1.1591 - val_accuracy: 0.7497\n",
      "Epoch 6/25\n",
      "5/5 [==============================] - 1s 192ms/step - loss: 1.0972 - accuracy: 0.7599 - val_loss: 0.9638 - val_accuracy: 0.7988\n",
      "Epoch 7/25\n",
      "5/5 [==============================] - 1s 246ms/step - loss: 0.9160 - accuracy: 0.8013 - val_loss: 0.8075 - val_accuracy: 0.8275\n",
      "Epoch 8/25\n",
      "5/5 [==============================] - 1s 210ms/step - loss: 0.7748 - accuracy: 0.8250 - val_loss: 0.6904 - val_accuracy: 0.8463\n",
      "Epoch 9/25\n",
      "5/5 [==============================] - 1s 244ms/step - loss: 0.6695 - accuracy: 0.8411 - val_loss: 0.6040 - val_accuracy: 0.8604\n",
      "Epoch 10/25\n",
      "5/5 [==============================] - 1s 172ms/step - loss: 0.5916 - accuracy: 0.8534 - val_loss: 0.5408 - val_accuracy: 0.8699\n",
      "Epoch 11/25\n",
      "5/5 [==============================] - 1s 200ms/step - loss: 0.5333 - accuracy: 0.8638 - val_loss: 0.4924 - val_accuracy: 0.8785\n",
      "Epoch 12/25\n",
      "5/5 [==============================] - 1s 193ms/step - loss: 0.4892 - accuracy: 0.8733 - val_loss: 0.4560 - val_accuracy: 0.8843\n",
      "Epoch 13/25\n",
      "5/5 [==============================] - 1s 186ms/step - loss: 0.4550 - accuracy: 0.8803 - val_loss: 0.4268 - val_accuracy: 0.8905\n",
      "Epoch 14/25\n",
      "5/5 [==============================] - 1s 134ms/step - loss: 0.4278 - accuracy: 0.8865 - val_loss: 0.4034 - val_accuracy: 0.8945\n",
      "Epoch 15/25\n",
      "5/5 [==============================] - 1s 137ms/step - loss: 0.4056 - accuracy: 0.8910 - val_loss: 0.3843 - val_accuracy: 0.8988\n",
      "Epoch 16/25\n",
      "5/5 [==============================] - 1s 154ms/step - loss: 0.3872 - accuracy: 0.8948 - val_loss: 0.3687 - val_accuracy: 0.9017\n",
      "Epoch 17/25\n",
      "5/5 [==============================] - 1s 131ms/step - loss: 0.3720 - accuracy: 0.8990 - val_loss: 0.3548 - val_accuracy: 0.9045\n",
      "Epoch 18/25\n",
      "5/5 [==============================] - 1s 137ms/step - loss: 0.3586 - accuracy: 0.9017 - val_loss: 0.3441 - val_accuracy: 0.9060\n",
      "Epoch 19/25\n",
      "5/5 [==============================] - 1s 158ms/step - loss: 0.3473 - accuracy: 0.9048 - val_loss: 0.3332 - val_accuracy: 0.9089\n",
      "Epoch 20/25\n",
      "5/5 [==============================] - 1s 150ms/step - loss: 0.3372 - accuracy: 0.9065 - val_loss: 0.3249 - val_accuracy: 0.9102\n",
      "Epoch 21/25\n",
      "5/5 [==============================] - 1s 181ms/step - loss: 0.3282 - accuracy: 0.9094 - val_loss: 0.3170 - val_accuracy: 0.9119\n",
      "Epoch 22/25\n",
      "5/5 [==============================] - 1s 145ms/step - loss: 0.3201 - accuracy: 0.9108 - val_loss: 0.3101 - val_accuracy: 0.9142\n",
      "Epoch 23/25\n",
      "5/5 [==============================] - 1s 122ms/step - loss: 0.3131 - accuracy: 0.9130 - val_loss: 0.3042 - val_accuracy: 0.9149\n",
      "Epoch 24/25\n",
      "5/5 [==============================] - 1s 127ms/step - loss: 0.3066 - accuracy: 0.9144 - val_loss: 0.2981 - val_accuracy: 0.9169\n",
      "Epoch 25/25\n",
      "5/5 [==============================] - 1s 117ms/step - loss: 0.3003 - accuracy: 0.9162 - val_loss: 0.2930 - val_accuracy: 0.9177\n"
     ]
    }
   ],
   "source": [
    "history = model.fit(\n",
    "    x_train, y_train,\n",
    "    epochs = 25, \n",
    "    steps_per_epoch = 5,\n",
    "    verbose = 1 ,\n",
    "    validation_data=(x_test, y_test)\n",
    ")"
   ]
  },
  {
   "cell_type": "markdown",
   "metadata": {},
   "source": [
    "### History Training"
   ]
  },
  {
   "cell_type": "code",
   "execution_count": 42,
   "metadata": {},
   "outputs": [
    {
     "data": {
      "image/png": "[encoded data removed]",
      "text/plain": [
       "<Figure size 640x480 with 1 Axes>"
      ]
     },
     "metadata": {},
     "output_type": "display_data"
    }
   ],
   "source": [
    "nilai_x = range(len(history.history['accuracy']))\n",
    "plt.plot(nilai_x, history.history['accuracy'], label='Training')\n",
    "plt.plot(nilai_x, history.history['val_accuracy'], label='Validation')\n",
    "plt.legend()\n",
    "plt.show()"
   ]
  },
  {
   "cell_type": "markdown",
   "metadata": {},
   "source": [
    "### Evaluasi Model"
   ]
  },
  {
   "cell_type": "code",
   "execution_count": 43,
   "metadata": {},
   "outputs": [
    {
     "name": "stdout",
     "output_type": "stream",
     "text": [
      "313/313 [==============================] - 1s 3ms/step - loss: 0.2930 - accuracy: 0.9177\n"
     ]
    },
    {
     "data": {
      "text/plain": [
       "[0.2930106818675995, 0.9176999926567078]"
      ]
     },
     "execution_count": 43,
     "metadata": {},
     "output_type": "execute_result"
    }
   ],
   "source": [
    "model.evaluate(x_test, y_test)"
   ]
  },
  {
   "cell_type": "markdown",
   "metadata": {},
   "source": [
    "### Save Model"
   ]
  },
  {
   "cell_type": "code",
   "execution_count": 44,
   "metadata": {},
   "outputs": [],
   "source": [
    "model.save('SavedModels/models.h5')"
   ]
  },
  {
   "cell_type": "markdown",
   "metadata": {},
   "source": [
    "### Load Model"
   ]
  },
  {
   "cell_type": "code",
   "execution_count": 45,
   "metadata": {},
   "outputs": [
    {
     "name": "stdout",
     "output_type": "stream",
     "text": [
      "Model: \"sequential_5\"\n",
      "_________________________________________________________________\n",
      " Layer (type)                Output Shape              Param #   \n",
      "=================================================================\n",
      " dense_7 (Dense)             (None, 32)                25120     \n",
      "                                                                 \n",
      " dense_8 (Dense)             (None, 32)                1056      \n",
      "                                                                 \n",
      " dense_9 (Dense)             (None, 10)                330       \n",
      "                                                                 \n",
      "=================================================================\n",
      "Total params: 26,506\n",
      "Trainable params: 26,506\n",
      "Non-trainable params: 0\n",
      "_________________________________________________________________\n"
     ]
    }
   ],
   "source": [
    "model_saved = tf.keras.models.load_model('SavedModels/models.h5')\n",
    "model_saved.summary()"
   ]
  },
  {
   "cell_type": "code",
   "execution_count": 46,
   "metadata": {},
   "outputs": [
    {
     "name": "stdout",
     "output_type": "stream",
     "text": [
      "313/313 [==============================] - 2s 4ms/step - loss: 0.2930 - accuracy: 0.9177\n"
     ]
    },
    {
     "data": {
      "text/plain": [
       "[0.2930106818675995, 0.9176999926567078]"
      ]
     },
     "execution_count": 46,
     "metadata": {},
     "output_type": "execute_result"
    }
   ],
   "source": [
    "model_saved.evaluate(x_test, y_test, batch_size=32)"
   ]
  },
  {
   "cell_type": "markdown",
   "metadata": {},
   "source": [
    "### Prediksi Model "
   ]
  },
  {
   "cell_type": "code",
   "execution_count": 65,
   "metadata": {},
   "outputs": [
    {
     "name": "stdout",
     "output_type": "stream",
     "text": [
      "313/313 [==============================] - 0s 1ms/step\n"
     ]
    }
   ],
   "source": [
    "hasil = model_saved.predict(x_test)"
   ]
  },
  {
   "cell_type": "code",
   "execution_count": 66,
   "metadata": {},
   "outputs": [
    {
     "data": {
      "text/plain": [
       "TensorShape([10000, 784])"
      ]
     },
     "execution_count": 66,
     "metadata": {},
     "output_type": "execute_result"
    }
   ],
   "source": [
    "x_test.shape"
   ]
  },
  {
   "cell_type": "code",
   "execution_count": 67,
   "metadata": {},
   "outputs": [
    {
     "data": {
      "text/plain": [
       "array([0, 1, 2, 3, 4, 5, 6, 7, 8, 9], dtype=uint8)"
      ]
     },
     "execution_count": 67,
     "metadata": {},
     "output_type": "execute_result"
    }
   ],
   "source": [
    "np.unique(y_train_raw)"
   ]
  },
  {
   "cell_type": "code",
   "execution_count": 57,
   "metadata": {},
   "outputs": [
    {
     "data": {
      "text/plain": [
       "(60000, 10)"
      ]
     },
     "execution_count": 57,
     "metadata": {},
     "output_type": "execute_result"
    }
   ],
   "source": [
    "hasil.shape"
   ]
  },
  {
   "cell_type": "code",
   "execution_count": 59,
   "metadata": {},
   "outputs": [
    {
     "data": {
      "text/plain": [
       "9"
      ]
     },
     "execution_count": 59,
     "metadata": {},
     "output_type": "execute_result"
    }
   ],
   "source": [
    "tf.argmax(hasil[22]).numpy()"
   ]
  },
  {
   "cell_type": "code",
   "execution_count": 60,
   "metadata": {},
   "outputs": [
    {
     "data": {
      "text/plain": [
       "array([0.00090445, 0.00449576, 0.00791383, 0.0059771 , 0.19644396,\n",
       "       0.00628739, 0.00126089, 0.06587671, 0.05092622, 0.6599137 ],\n",
       "      dtype=float32)"
      ]
     },
     "execution_count": 60,
     "metadata": {},
     "output_type": "execute_result"
    }
   ],
   "source": [
    "hasil[22]"
   ]
  },
  {
   "cell_type": "code",
   "execution_count": 70,
   "metadata": {},
   "outputs": [
    {
     "data": {
      "text/plain": [
       "<matplotlib.image.AxesImage at 0x284159edea0>"
      ]
     },
     "execution_count": 70,
     "metadata": {},
     "output_type": "execute_result"
    },
    {
     "data": {
      "image/png": "[encoded data removed]",
      "text/plain": [
       "<Figure size 640x480 with 1 Axes>"
      ]
     },
     "metadata": {},
     "output_type": "display_data"
    }
   ],
   "source": [
    "plt.imshow(x_test_raw[22])"
   ]
  },
  {
   "cell_type": "code",
   "execution_count": null,
   "metadata": {},
   "outputs": [],
   "source": []
  }
 ],
 "metadata": {
  "kernelspec": {
   "display_name": "Python 3.10.7 64-bit",
   "language": "python",
   "name": "python3"
  },
  "language_info": {
   "codemirror_mode": {
    "name": "ipython",
    "version": 3
   },
   "file_extension": ".py",
   "mimetype": "text/x-python",
   "name": "python",
   "nbconvert_exporter": "python",
   "pygments_lexer": "ipython3",
   "version": "3.10.7"
  },
  "orig_nbformat": 4,
  "vscode": {
   "interpreter": {
    "hash": "b5988cb11eaecd39baa5fed3fa2c7f374083f960c0c970c5de85c5a0db3c941f"
   }
  }
 },
 "nbformat": 4,
 "nbformat_minor": 2
}
