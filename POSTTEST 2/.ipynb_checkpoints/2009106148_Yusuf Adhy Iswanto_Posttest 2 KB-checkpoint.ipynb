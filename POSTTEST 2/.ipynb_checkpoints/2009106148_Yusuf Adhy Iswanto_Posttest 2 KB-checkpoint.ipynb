{
 "cells": [
  {
   "cell_type": "markdown",
   "id": "2bf32b51",
   "metadata": {},
   "source": [
    "#### Mengimport Library"
   ]
  },
  {
   "cell_type": "code",
   "execution_count": 13,
   "id": "a256fae6",
   "metadata": {},
   "outputs": [],
   "source": [
    "import pandas as pd\n",
    "import numpy as np"
   ]
  },
  {
   "cell_type": "markdown",
   "id": "c7ab2ad9",
   "metadata": {},
   "source": [
    "#### Membaca File CSV"
   ]
  },
  {
   "cell_type": "code",
   "execution_count": 14,
   "id": "755d68d0",
   "metadata": {},
   "outputs": [],
   "source": [
    "dataset = pd.read_csv(\"crypto-query-tweets.csv\")"
   ]
  },
  {
   "cell_type": "markdown",
   "id": "5ac4534c",
   "metadata": {},
   "source": [
    "#### Tipe Dataset"
   ]
  },
  {
   "cell_type": "code",
   "execution_count": 29,
   "id": "43ceb322",
   "metadata": {},
   "outputs": [
    {
     "data": {
      "text/plain": [
       "date_time              object\n",
       "username               object\n",
       "user_location          object\n",
       "user_description       object\n",
       "verified                 bool\n",
       "followers_count         int64\n",
       "following_count         int64\n",
       "tweet_like_count        int64\n",
       "tweet_retweet_count     int64\n",
       "tweet_reply_count       int64\n",
       "tweet_quote_count       int64\n",
       "tweet_text             object\n",
       "dtype: object"
      ]
     },
     "execution_count": 29,
     "metadata": {},
     "output_type": "execute_result"
    }
   ],
   "source": [
    "dataset.dtypes"
   ]
  },
  {
   "cell_type": "markdown",
   "id": "55505bea",
   "metadata": {},
   "source": [
    "#### Melihat Dataset"
   ]
  },
  {
   "cell_type": "code",
   "execution_count": 30,
   "id": "84bc0ba8",
   "metadata": {},
   "outputs": [
    {
     "data": {
      "text/html": [
       "<div>\n",
       "<style scoped>\n",
       "    .dataframe tbody tr th:only-of-type {\n",
       "        vertical-align: middle;\n",
       "    }\n",
       "\n",
       "    .dataframe tbody tr th {\n",
       "        vertical-align: top;\n",
       "    }\n",
       "\n",
       "    .dataframe thead th {\n",
       "        text-align: right;\n",
       "    }\n",
       "</style>\n",
       "<table border=\"1\" class=\"dataframe\">\n",
       "  <thead>\n",
       "    <tr style=\"text-align: right;\">\n",
       "      <th></th>\n",
       "      <th>date_time</th>\n",
       "      <th>username</th>\n",
       "      <th>user_location</th>\n",
       "      <th>user_description</th>\n",
       "      <th>verified</th>\n",
       "      <th>followers_count</th>\n",
       "      <th>following_count</th>\n",
       "      <th>tweet_like_count</th>\n",
       "      <th>tweet_retweet_count</th>\n",
       "      <th>tweet_reply_count</th>\n",
       "      <th>tweet_quote_count</th>\n",
       "      <th>tweet_text</th>\n",
       "    </tr>\n",
       "  </thead>\n",
       "  <tbody>\n",
       "    <tr>\n",
       "      <th>0</th>\n",
       "      <td>2022-08-29 11:44:57+00:00</td>\n",
       "      <td>MerlinCarey6</td>\n",
       "      <td>NaN</td>\n",
       "      <td>Creative Producer. Illustrator. He / Him. #Clo...</td>\n",
       "      <td>False</td>\n",
       "      <td>0</td>\n",
       "      <td>0</td>\n",
       "      <td>0</td>\n",
       "      <td>0</td>\n",
       "      <td>0</td>\n",
       "      <td>0</td>\n",
       "      <td>49That spaces was so bad for #crypto. Save the...</td>\n",
       "    </tr>\n",
       "    <tr>\n",
       "      <th>1</th>\n",
       "      <td>2022-08-29 11:44:57+00:00</td>\n",
       "      <td>jayeth221</td>\n",
       "      <td>NaN</td>\n",
       "      <td>NaN</td>\n",
       "      <td>False</td>\n",
       "      <td>0</td>\n",
       "      <td>0</td>\n",
       "      <td>0</td>\n",
       "      <td>0</td>\n",
       "      <td>0</td>\n",
       "      <td>0</td>\n",
       "      <td>whitelist Detailed @MorghadeG @atowerises @cry...</td>\n",
       "    </tr>\n",
       "    <tr>\n",
       "      <th>2</th>\n",
       "      <td>2022-08-29 11:44:55+00:00</td>\n",
       "      <td>Prakash79984246</td>\n",
       "      <td>NaN</td>\n",
       "      <td>\"自助下单 网址 shuafen999.com\\n推特，ins，youtube，facebo...</td>\n",
       "      <td>False</td>\n",
       "      <td>1</td>\n",
       "      <td>2</td>\n",
       "      <td>0</td>\n",
       "      <td>0</td>\n",
       "      <td>0</td>\n",
       "      <td>0</td>\n",
       "      <td>som #cyptocurrency #btc #eth #crypto W Leone n...</td>\n",
       "    </tr>\n",
       "    <tr>\n",
       "      <th>3</th>\n",
       "      <td>2022-08-29 11:44:55+00:00</td>\n",
       "      <td>THR_September22</td>\n",
       "      <td>NaN</td>\n",
       "      <td>usaha tak akan menghinati hasil 🤭🤭🤭... \\nakun ...</td>\n",
       "      <td>False</td>\n",
       "      <td>113</td>\n",
       "      <td>4375</td>\n",
       "      <td>0</td>\n",
       "      <td>0</td>\n",
       "      <td>0</td>\n",
       "      <td>0</td>\n",
       "      <td>@renezive @Crypto_Inside_ @NftMeta_News Done</td>\n",
       "    </tr>\n",
       "    <tr>\n",
       "      <th>4</th>\n",
       "      <td>2022-08-29 11:44:55+00:00</td>\n",
       "      <td>CryptoTruth205</td>\n",
       "      <td>NC, NY, ATL, LA</td>\n",
       "      <td>Crypto/Stock Analysis. Never bullish/bearish o...</td>\n",
       "      <td>False</td>\n",
       "      <td>592</td>\n",
       "      <td>1063</td>\n",
       "      <td>0</td>\n",
       "      <td>0</td>\n",
       "      <td>0</td>\n",
       "      <td>0</td>\n",
       "      <td>@el_crypto_prof They aren’t the same pattern…s...</td>\n",
       "    </tr>\n",
       "    <tr>\n",
       "      <th>...</th>\n",
       "      <td>...</td>\n",
       "      <td>...</td>\n",
       "      <td>...</td>\n",
       "      <td>...</td>\n",
       "      <td>...</td>\n",
       "      <td>...</td>\n",
       "      <td>...</td>\n",
       "      <td>...</td>\n",
       "      <td>...</td>\n",
       "      <td>...</td>\n",
       "      <td>...</td>\n",
       "      <td>...</td>\n",
       "    </tr>\n",
       "    <tr>\n",
       "      <th>79995</th>\n",
       "      <td>2022-08-28 12:27:46+00:00</td>\n",
       "      <td>BloombergAsia</td>\n",
       "      <td>NaN</td>\n",
       "      <td>The official Twitter account for Bloomberg in ...</td>\n",
       "      <td>True</td>\n",
       "      <td>106217</td>\n",
       "      <td>563</td>\n",
       "      <td>1</td>\n",
       "      <td>0</td>\n",
       "      <td>0</td>\n",
       "      <td>0</td>\n",
       "      <td>Bitcoin appeared stuck around $20,000 on Sunda...</td>\n",
       "    </tr>\n",
       "    <tr>\n",
       "      <th>79996</th>\n",
       "      <td>2022-08-28 12:27:42+00:00</td>\n",
       "      <td>king_bigwin3</td>\n",
       "      <td>NaN</td>\n",
       "      <td>pengen bigwin berapa aja,follback dong,🙏🙏🙏</td>\n",
       "      <td>False</td>\n",
       "      <td>66</td>\n",
       "      <td>2445</td>\n",
       "      <td>0</td>\n",
       "      <td>0</td>\n",
       "      <td>0</td>\n",
       "      <td>0</td>\n",
       "      <td>@crypto_inez @insurancefi_io Tg:slamet https:/...</td>\n",
       "    </tr>\n",
       "    <tr>\n",
       "      <th>79997</th>\n",
       "      <td>2022-08-28 12:27:41+00:00</td>\n",
       "      <td>Rezeki_Putri22</td>\n",
       "      <td>Indonesia🇮🇩</td>\n",
       "      <td>三三ᕕ( ᐛ )ᕗ Jika tuhan belum menjawab doamu, ber...</td>\n",
       "      <td>False</td>\n",
       "      <td>160</td>\n",
       "      <td>2886</td>\n",
       "      <td>0</td>\n",
       "      <td>0</td>\n",
       "      <td>0</td>\n",
       "      <td>0</td>\n",
       "      <td>@crypto_inez Hello... Goodnight miss inez</td>\n",
       "    </tr>\n",
       "    <tr>\n",
       "      <th>79998</th>\n",
       "      <td>2022-08-28 12:27:41+00:00</td>\n",
       "      <td>0xkyongpie</td>\n",
       "      <td>ksoofuture</td>\n",
       "      <td>kyungsoo, kyungsoo, kyungsoo just it-\\n#VRpaid</td>\n",
       "      <td>False</td>\n",
       "      <td>495</td>\n",
       "      <td>4962</td>\n",
       "      <td>0</td>\n",
       "      <td>0</td>\n",
       "      <td>0</td>\n",
       "      <td>0</td>\n",
       "      <td>@princesspromos_ @Crypto_Hawkk Done🔔</td>\n",
       "    </tr>\n",
       "    <tr>\n",
       "      <th>79999</th>\n",
       "      <td>2022-08-28 12:27:41+00:00</td>\n",
       "      <td>mahfug50</td>\n",
       "      <td>Dinajpur,Bangladesh</td>\n",
       "      <td>Digital Marketer\\nAlmost an SEO Expert</td>\n",
       "      <td>False</td>\n",
       "      <td>1022</td>\n",
       "      <td>557</td>\n",
       "      <td>1</td>\n",
       "      <td>0</td>\n",
       "      <td>1</td>\n",
       "      <td>0</td>\n",
       "      <td>@Crypto__emily Wait for more cheap</td>\n",
       "    </tr>\n",
       "  </tbody>\n",
       "</table>\n",
       "<p>80000 rows × 12 columns</p>\n",
       "</div>"
      ],
      "text/plain": [
       "                       date_time         username        user_location  \\\n",
       "0      2022-08-29 11:44:57+00:00     MerlinCarey6                  NaN   \n",
       "1      2022-08-29 11:44:57+00:00        jayeth221                  NaN   \n",
       "2      2022-08-29 11:44:55+00:00  Prakash79984246                  NaN   \n",
       "3      2022-08-29 11:44:55+00:00  THR_September22                  NaN   \n",
       "4      2022-08-29 11:44:55+00:00   CryptoTruth205      NC, NY, ATL, LA   \n",
       "...                          ...              ...                  ...   \n",
       "79995  2022-08-28 12:27:46+00:00    BloombergAsia                  NaN   \n",
       "79996  2022-08-28 12:27:42+00:00     king_bigwin3                  NaN   \n",
       "79997  2022-08-28 12:27:41+00:00   Rezeki_Putri22          Indonesia🇮🇩   \n",
       "79998  2022-08-28 12:27:41+00:00       0xkyongpie           ksoofuture   \n",
       "79999  2022-08-28 12:27:41+00:00         mahfug50  Dinajpur,Bangladesh   \n",
       "\n",
       "                                        user_description  verified  \\\n",
       "0      Creative Producer. Illustrator. He / Him. #Clo...     False   \n",
       "1                                                    NaN     False   \n",
       "2      \"自助下单 网址 shuafen999.com\\n推特，ins，youtube，facebo...     False   \n",
       "3      usaha tak akan menghinati hasil 🤭🤭🤭... \\nakun ...     False   \n",
       "4      Crypto/Stock Analysis. Never bullish/bearish o...     False   \n",
       "...                                                  ...       ...   \n",
       "79995  The official Twitter account for Bloomberg in ...      True   \n",
       "79996         pengen bigwin berapa aja,follback dong,🙏🙏🙏     False   \n",
       "79997  三三ᕕ( ᐛ )ᕗ Jika tuhan belum menjawab doamu, ber...     False   \n",
       "79998     kyungsoo, kyungsoo, kyungsoo just it-\\n#VRpaid     False   \n",
       "79999             Digital Marketer\\nAlmost an SEO Expert     False   \n",
       "\n",
       "       followers_count  following_count  tweet_like_count  \\\n",
       "0                    0                0                 0   \n",
       "1                    0                0                 0   \n",
       "2                    1                2                 0   \n",
       "3                  113             4375                 0   \n",
       "4                  592             1063                 0   \n",
       "...                ...              ...               ...   \n",
       "79995           106217              563                 1   \n",
       "79996               66             2445                 0   \n",
       "79997              160             2886                 0   \n",
       "79998              495             4962                 0   \n",
       "79999             1022              557                 1   \n",
       "\n",
       "       tweet_retweet_count  tweet_reply_count  tweet_quote_count  \\\n",
       "0                        0                  0                  0   \n",
       "1                        0                  0                  0   \n",
       "2                        0                  0                  0   \n",
       "3                        0                  0                  0   \n",
       "4                        0                  0                  0   \n",
       "...                    ...                ...                ...   \n",
       "79995                    0                  0                  0   \n",
       "79996                    0                  0                  0   \n",
       "79997                    0                  0                  0   \n",
       "79998                    0                  0                  0   \n",
       "79999                    0                  1                  0   \n",
       "\n",
       "                                              tweet_text  \n",
       "0      49That spaces was so bad for #crypto. Save the...  \n",
       "1      whitelist Detailed @MorghadeG @atowerises @cry...  \n",
       "2      som #cyptocurrency #btc #eth #crypto W Leone n...  \n",
       "3           @renezive @Crypto_Inside_ @NftMeta_News Done  \n",
       "4      @el_crypto_prof They aren’t the same pattern…s...  \n",
       "...                                                  ...  \n",
       "79995  Bitcoin appeared stuck around $20,000 on Sunda...  \n",
       "79996  @crypto_inez @insurancefi_io Tg:slamet https:/...  \n",
       "79997          @crypto_inez Hello... Goodnight miss inez  \n",
       "79998               @princesspromos_ @Crypto_Hawkk Done🔔  \n",
       "79999                 @Crypto__emily Wait for more cheap  \n",
       "\n",
       "[80000 rows x 12 columns]"
      ]
     },
     "execution_count": 30,
     "metadata": {},
     "output_type": "execute_result"
    }
   ],
   "source": [
    "dataset"
   ]
  },
  {
   "cell_type": "markdown",
   "id": "7b8674a9",
   "metadata": {},
   "source": [
    "#### Menampilkan Isi Dictionary Dengan Tipe Objek"
   ]
  },
  {
   "cell_type": "code",
   "execution_count": 31,
   "id": "05ed5408",
   "metadata": {},
   "outputs": [
    {
     "data": {
      "text/plain": [
       "jumlah record                                                 80000\n",
       "nama atribut      Index(['date_time', 'username', 'user_location...\n",
       "jumlah atribut                                                    5\n",
       "dtype: object"
      ]
     },
     "execution_count": 31,
     "metadata": {},
     "output_type": "execute_result"
    }
   ],
   "source": [
    "jmlhRecord = len(dataset)\n",
    "namaAtribut = dataset.columns\n",
    "jmlhAtribut = len(dataset.select_dtypes(include=['object']).columns)\n",
    "\n",
    "dictObject = {\n",
    "    'jumlah record' : jmlhRecord,\n",
    "    'nama atribut' : namaAtribut,\n",
    "    'jumlah atribut' : jmlhAtribut,\n",
    "}\n",
    "pd.Series(dictObject)"
   ]
  },
  {
   "cell_type": "markdown",
   "id": "540e438a",
   "metadata": {},
   "source": [
    "#### Menampilkan Isi Dictionary Dengan Tipe Angka"
   ]
  },
  {
   "cell_type": "code",
   "execution_count": 33,
   "id": "338647b9",
   "metadata": {},
   "outputs": [
    {
     "data": {
      "text/plain": [
       "jumlah artibut         6\n",
       "jumlah atribut NULL    2\n",
       "dtype: int64"
      ]
     },
     "execution_count": 33,
     "metadata": {},
     "output_type": "execute_result"
    }
   ],
   "source": [
    "jumlahAtribut = len(dataset.select_dtypes(include=['int64']).columns)\n",
    "jumlahNULL = len(dataset.columns[dataset.isna().sum() > 0])\n",
    "dictInt = {\n",
    "    'jumlah artibut' : jumlahAtribut,\n",
    "    'jumlah atribut NULL' : jumlahNULL,\n",
    "}\n",
    "pd.Series(dictInt)"
   ]
  },
  {
   "cell_type": "markdown",
   "id": "325e8c82",
   "metadata": {},
   "source": [
    "#### Menampilkan Nilai Rata-Rata (Mean)"
   ]
  },
  {
   "cell_type": "code",
   "execution_count": 34,
   "id": "74239950",
   "metadata": {},
   "outputs": [
    {
     "data": {
      "text/plain": [
       "followers_count        9674.178100\n",
       "following_count        1187.229825\n",
       "tweet_like_count          4.538963\n",
       "tweet_retweet_count       1.489763\n",
       "tweet_reply_count         1.770712\n",
       "tweet_quote_count         0.081562\n",
       "dtype: float64"
      ]
     },
     "execution_count": 34,
     "metadata": {},
     "output_type": "execute_result"
    }
   ],
   "source": [
    "dataset.select_dtypes(include=['int64']).mean()"
   ]
  },
  {
   "cell_type": "markdown",
   "id": "408e7e4d",
   "metadata": {},
   "source": [
    "#### Menampilkan Nilai standar Deviasi"
   ]
  },
  {
   "cell_type": "code",
   "execution_count": 35,
   "id": "24c223e0",
   "metadata": {},
   "outputs": [
    {
     "data": {
      "text/plain": [
       "followers_count        239267.500257\n",
       "following_count          3333.715460\n",
       "tweet_like_count           55.696321\n",
       "tweet_retweet_count        43.490939\n",
       "tweet_reply_count          27.518316\n",
       "tweet_quote_count           3.539066\n",
       "dtype: float64"
      ]
     },
     "execution_count": 35,
     "metadata": {},
     "output_type": "execute_result"
    }
   ],
   "source": [
    "dataset.select_dtypes(include=['int64']).std()"
   ]
  },
  {
   "cell_type": "markdown",
   "id": "4926ff5f",
   "metadata": {},
   "source": [
    "#### Menampilkan Nilai Minimum"
   ]
  },
  {
   "cell_type": "code",
   "execution_count": 36,
   "id": "90de651e",
   "metadata": {},
   "outputs": [
    {
     "data": {
      "text/plain": [
       "followers_count        0\n",
       "following_count        0\n",
       "tweet_like_count       0\n",
       "tweet_retweet_count    0\n",
       "tweet_reply_count      0\n",
       "tweet_quote_count      0\n",
       "dtype: int64"
      ]
     },
     "execution_count": 36,
     "metadata": {},
     "output_type": "execute_result"
    }
   ],
   "source": [
    "dataset.select_dtypes(include=['int64']).min()"
   ]
  },
  {
   "cell_type": "markdown",
   "id": "a01e7ed3",
   "metadata": {},
   "source": [
    "#### Menampilkan Nilai Maksimum"
   ]
  },
  {
   "cell_type": "code",
   "execution_count": 37,
   "id": "0497e80c",
   "metadata": {},
   "outputs": [
    {
     "data": {
      "text/plain": [
       "followers_count        25535908\n",
       "following_count          211354\n",
       "tweet_like_count           7438\n",
       "tweet_retweet_count        7459\n",
       "tweet_reply_count          4045\n",
       "tweet_quote_count           948\n",
       "dtype: int64"
      ]
     },
     "execution_count": 37,
     "metadata": {},
     "output_type": "execute_result"
    }
   ],
   "source": [
    "dataset.select_dtypes(include=['int64']).max()"
   ]
  },
  {
   "cell_type": "markdown",
   "id": "8c37d90f",
   "metadata": {},
   "source": [
    "#### Menampilkan Nilai Q1, Q2, Q3"
   ]
  },
  {
   "cell_type": "code",
   "execution_count": 38,
   "id": "bf6985a8",
   "metadata": {},
   "outputs": [
    {
     "data": {
      "text/html": [
       "<div>\n",
       "<style scoped>\n",
       "    .dataframe tbody tr th:only-of-type {\n",
       "        vertical-align: middle;\n",
       "    }\n",
       "\n",
       "    .dataframe tbody tr th {\n",
       "        vertical-align: top;\n",
       "    }\n",
       "\n",
       "    .dataframe thead th {\n",
       "        text-align: right;\n",
       "    }\n",
       "</style>\n",
       "<table border=\"1\" class=\"dataframe\">\n",
       "  <thead>\n",
       "    <tr style=\"text-align: right;\">\n",
       "      <th></th>\n",
       "      <th>followers_count</th>\n",
       "      <th>following_count</th>\n",
       "      <th>tweet_like_count</th>\n",
       "      <th>tweet_retweet_count</th>\n",
       "      <th>tweet_reply_count</th>\n",
       "      <th>tweet_quote_count</th>\n",
       "    </tr>\n",
       "  </thead>\n",
       "  <tbody>\n",
       "    <tr>\n",
       "      <th>0.25</th>\n",
       "      <td>49.0</td>\n",
       "      <td>42.0</td>\n",
       "      <td>0.0</td>\n",
       "      <td>0.0</td>\n",
       "      <td>0.0</td>\n",
       "      <td>0.0</td>\n",
       "    </tr>\n",
       "    <tr>\n",
       "      <th>0.50</th>\n",
       "      <td>237.0</td>\n",
       "      <td>305.0</td>\n",
       "      <td>0.0</td>\n",
       "      <td>0.0</td>\n",
       "      <td>0.0</td>\n",
       "      <td>0.0</td>\n",
       "    </tr>\n",
       "    <tr>\n",
       "      <th>0.75</th>\n",
       "      <td>1575.5</td>\n",
       "      <td>1390.0</td>\n",
       "      <td>2.0</td>\n",
       "      <td>0.0</td>\n",
       "      <td>1.0</td>\n",
       "      <td>0.0</td>\n",
       "    </tr>\n",
       "  </tbody>\n",
       "</table>\n",
       "</div>"
      ],
      "text/plain": [
       "      followers_count  following_count  tweet_like_count  tweet_retweet_count  \\\n",
       "0.25             49.0             42.0               0.0                  0.0   \n",
       "0.50            237.0            305.0               0.0                  0.0   \n",
       "0.75           1575.5           1390.0               2.0                  0.0   \n",
       "\n",
       "      tweet_reply_count  tweet_quote_count  \n",
       "0.25                0.0                0.0  \n",
       "0.50                0.0                0.0  \n",
       "0.75                1.0                0.0  "
      ]
     },
     "execution_count": 38,
     "metadata": {},
     "output_type": "execute_result"
    }
   ],
   "source": [
    "dataset.select_dtypes(include=['int64']).quantile([0.25,0.50,0.75])"
   ]
  },
  {
   "cell_type": "markdown",
   "id": "a2a790ed",
   "metadata": {},
   "source": [
    "#### Menampilkan Nilai Mean, Standar Deviasi, MIN, MAX, Q1, Q2, Q3"
   ]
  },
  {
   "cell_type": "code",
   "execution_count": 39,
   "id": "4baadbb6",
   "metadata": {},
   "outputs": [
    {
     "data": {
      "text/html": [
       "<div>\n",
       "<style scoped>\n",
       "    .dataframe tbody tr th:only-of-type {\n",
       "        vertical-align: middle;\n",
       "    }\n",
       "\n",
       "    .dataframe tbody tr th {\n",
       "        vertical-align: top;\n",
       "    }\n",
       "\n",
       "    .dataframe thead th {\n",
       "        text-align: right;\n",
       "    }\n",
       "</style>\n",
       "<table border=\"1\" class=\"dataframe\">\n",
       "  <thead>\n",
       "    <tr style=\"text-align: right;\">\n",
       "      <th></th>\n",
       "      <th>followers_count</th>\n",
       "      <th>following_count</th>\n",
       "      <th>tweet_like_count</th>\n",
       "      <th>tweet_retweet_count</th>\n",
       "      <th>tweet_reply_count</th>\n",
       "      <th>tweet_quote_count</th>\n",
       "    </tr>\n",
       "  </thead>\n",
       "  <tbody>\n",
       "    <tr>\n",
       "      <th>count</th>\n",
       "      <td>8.000000e+04</td>\n",
       "      <td>80000.000000</td>\n",
       "      <td>80000.000000</td>\n",
       "      <td>80000.000000</td>\n",
       "      <td>80000.000000</td>\n",
       "      <td>80000.000000</td>\n",
       "    </tr>\n",
       "    <tr>\n",
       "      <th>mean</th>\n",
       "      <td>9.674178e+03</td>\n",
       "      <td>1187.229825</td>\n",
       "      <td>4.538963</td>\n",
       "      <td>1.489763</td>\n",
       "      <td>1.770712</td>\n",
       "      <td>0.081562</td>\n",
       "    </tr>\n",
       "    <tr>\n",
       "      <th>std</th>\n",
       "      <td>2.392675e+05</td>\n",
       "      <td>3333.715460</td>\n",
       "      <td>55.696321</td>\n",
       "      <td>43.490939</td>\n",
       "      <td>27.518316</td>\n",
       "      <td>3.539066</td>\n",
       "    </tr>\n",
       "    <tr>\n",
       "      <th>min</th>\n",
       "      <td>0.000000e+00</td>\n",
       "      <td>0.000000</td>\n",
       "      <td>0.000000</td>\n",
       "      <td>0.000000</td>\n",
       "      <td>0.000000</td>\n",
       "      <td>0.000000</td>\n",
       "    </tr>\n",
       "    <tr>\n",
       "      <th>25%</th>\n",
       "      <td>4.900000e+01</td>\n",
       "      <td>42.000000</td>\n",
       "      <td>0.000000</td>\n",
       "      <td>0.000000</td>\n",
       "      <td>0.000000</td>\n",
       "      <td>0.000000</td>\n",
       "    </tr>\n",
       "    <tr>\n",
       "      <th>50%</th>\n",
       "      <td>2.370000e+02</td>\n",
       "      <td>305.000000</td>\n",
       "      <td>0.000000</td>\n",
       "      <td>0.000000</td>\n",
       "      <td>0.000000</td>\n",
       "      <td>0.000000</td>\n",
       "    </tr>\n",
       "    <tr>\n",
       "      <th>75%</th>\n",
       "      <td>1.575500e+03</td>\n",
       "      <td>1390.000000</td>\n",
       "      <td>2.000000</td>\n",
       "      <td>0.000000</td>\n",
       "      <td>1.000000</td>\n",
       "      <td>0.000000</td>\n",
       "    </tr>\n",
       "    <tr>\n",
       "      <th>max</th>\n",
       "      <td>2.553591e+07</td>\n",
       "      <td>211354.000000</td>\n",
       "      <td>7438.000000</td>\n",
       "      <td>7459.000000</td>\n",
       "      <td>4045.000000</td>\n",
       "      <td>948.000000</td>\n",
       "    </tr>\n",
       "  </tbody>\n",
       "</table>\n",
       "</div>"
      ],
      "text/plain": [
       "       followers_count  following_count  tweet_like_count  \\\n",
       "count     8.000000e+04     80000.000000      80000.000000   \n",
       "mean      9.674178e+03      1187.229825          4.538963   \n",
       "std       2.392675e+05      3333.715460         55.696321   \n",
       "min       0.000000e+00         0.000000          0.000000   \n",
       "25%       4.900000e+01        42.000000          0.000000   \n",
       "50%       2.370000e+02       305.000000          0.000000   \n",
       "75%       1.575500e+03      1390.000000          2.000000   \n",
       "max       2.553591e+07    211354.000000       7438.000000   \n",
       "\n",
       "       tweet_retweet_count  tweet_reply_count  tweet_quote_count  \n",
       "count         80000.000000       80000.000000       80000.000000  \n",
       "mean              1.489763           1.770712           0.081562  \n",
       "std              43.490939          27.518316           3.539066  \n",
       "min               0.000000           0.000000           0.000000  \n",
       "25%               0.000000           0.000000           0.000000  \n",
       "50%               0.000000           0.000000           0.000000  \n",
       "75%               0.000000           1.000000           0.000000  \n",
       "max            7459.000000        4045.000000         948.000000  "
      ]
     },
     "execution_count": 39,
     "metadata": {},
     "output_type": "execute_result"
    }
   ],
   "source": [
    "dataset.describe()"
   ]
  },
  {
   "cell_type": "markdown",
   "id": "68fdefb4",
   "metadata": {},
   "source": [
    "#### Menampilkan Nilai Korelasi "
   ]
  },
  {
   "cell_type": "code",
   "execution_count": 40,
   "id": "fcd75c27",
   "metadata": {},
   "outputs": [
    {
     "data": {
      "text/html": [
       "<div>\n",
       "<style scoped>\n",
       "    .dataframe tbody tr th:only-of-type {\n",
       "        vertical-align: middle;\n",
       "    }\n",
       "\n",
       "    .dataframe tbody tr th {\n",
       "        vertical-align: top;\n",
       "    }\n",
       "\n",
       "    .dataframe thead th {\n",
       "        text-align: right;\n",
       "    }\n",
       "</style>\n",
       "<table border=\"1\" class=\"dataframe\">\n",
       "  <thead>\n",
       "    <tr style=\"text-align: right;\">\n",
       "      <th></th>\n",
       "      <th>followers_count</th>\n",
       "      <th>following_count</th>\n",
       "      <th>tweet_like_count</th>\n",
       "      <th>tweet_retweet_count</th>\n",
       "      <th>tweet_reply_count</th>\n",
       "      <th>tweet_quote_count</th>\n",
       "    </tr>\n",
       "  </thead>\n",
       "  <tbody>\n",
       "    <tr>\n",
       "      <th>followers_count</th>\n",
       "      <td>1.000000</td>\n",
       "      <td>0.026875</td>\n",
       "      <td>0.083933</td>\n",
       "      <td>0.026645</td>\n",
       "      <td>0.067111</td>\n",
       "      <td>0.030608</td>\n",
       "    </tr>\n",
       "    <tr>\n",
       "      <th>following_count</th>\n",
       "      <td>0.026875</td>\n",
       "      <td>1.000000</td>\n",
       "      <td>0.022353</td>\n",
       "      <td>0.007185</td>\n",
       "      <td>0.017298</td>\n",
       "      <td>0.002686</td>\n",
       "    </tr>\n",
       "    <tr>\n",
       "      <th>tweet_like_count</th>\n",
       "      <td>0.083933</td>\n",
       "      <td>0.022353</td>\n",
       "      <td>1.000000</td>\n",
       "      <td>0.733009</td>\n",
       "      <td>0.511706</td>\n",
       "      <td>0.270077</td>\n",
       "    </tr>\n",
       "    <tr>\n",
       "      <th>tweet_retweet_count</th>\n",
       "      <td>0.026645</td>\n",
       "      <td>0.007185</td>\n",
       "      <td>0.733009</td>\n",
       "      <td>1.000000</td>\n",
       "      <td>0.373055</td>\n",
       "      <td>0.359717</td>\n",
       "    </tr>\n",
       "    <tr>\n",
       "      <th>tweet_reply_count</th>\n",
       "      <td>0.067111</td>\n",
       "      <td>0.017298</td>\n",
       "      <td>0.511706</td>\n",
       "      <td>0.373055</td>\n",
       "      <td>1.000000</td>\n",
       "      <td>0.231398</td>\n",
       "    </tr>\n",
       "    <tr>\n",
       "      <th>tweet_quote_count</th>\n",
       "      <td>0.030608</td>\n",
       "      <td>0.002686</td>\n",
       "      <td>0.270077</td>\n",
       "      <td>0.359717</td>\n",
       "      <td>0.231398</td>\n",
       "      <td>1.000000</td>\n",
       "    </tr>\n",
       "  </tbody>\n",
       "</table>\n",
       "</div>"
      ],
      "text/plain": [
       "                     followers_count  following_count  tweet_like_count  \\\n",
       "followers_count             1.000000         0.026875          0.083933   \n",
       "following_count             0.026875         1.000000          0.022353   \n",
       "tweet_like_count            0.083933         0.022353          1.000000   \n",
       "tweet_retweet_count         0.026645         0.007185          0.733009   \n",
       "tweet_reply_count           0.067111         0.017298          0.511706   \n",
       "tweet_quote_count           0.030608         0.002686          0.270077   \n",
       "\n",
       "                     tweet_retweet_count  tweet_reply_count  tweet_quote_count  \n",
       "followers_count                 0.026645           0.067111           0.030608  \n",
       "following_count                 0.007185           0.017298           0.002686  \n",
       "tweet_like_count                0.733009           0.511706           0.270077  \n",
       "tweet_retweet_count             1.000000           0.373055           0.359717  \n",
       "tweet_reply_count               0.373055           1.000000           0.231398  \n",
       "tweet_quote_count               0.359717           0.231398           1.000000  "
      ]
     },
     "execution_count": 40,
     "metadata": {},
     "output_type": "execute_result"
    }
   ],
   "source": [
    "dataset.select_dtypes(include=['int64']).corr()"
   ]
  },
  {
   "cell_type": "markdown",
   "id": "8295f319",
   "metadata": {},
   "source": [
    "#### Mengubah Nilai"
   ]
  },
  {
   "cell_type": "code",
   "execution_count": 41,
   "id": "c58b9760",
   "metadata": {},
   "outputs": [
    {
     "data": {
      "text/plain": [
       "dtype('float64')"
      ]
     },
     "execution_count": 41,
     "metadata": {},
     "output_type": "execute_result"
    }
   ],
   "source": [
    "dataset['followers_count'] = dataset['followers_count'].astype('float64', errors='ignore')\n",
    "dataset['followers_count'].dtypes"
   ]
  },
  {
   "cell_type": "markdown",
   "id": "980f836d",
   "metadata": {},
   "source": [
    "#### Menampilkan Setelah Mengubah Nilai"
   ]
  },
  {
   "cell_type": "code",
   "execution_count": 43,
   "id": "ea5bce87",
   "metadata": {},
   "outputs": [
    {
     "data": {
      "text/plain": [
       "0            0.000\n",
       "1            0.000\n",
       "2            1.000\n",
       "3          113.000\n",
       "4          592.000\n",
       "           ...    \n",
       "79995   106217.000\n",
       "79996       66.000\n",
       "79997      160.000\n",
       "79998      495.000\n",
       "79999     1022.000\n",
       "Name: followers_count, Length: 80000, dtype: float64"
      ]
     },
     "execution_count": 43,
     "metadata": {},
     "output_type": "execute_result"
    }
   ],
   "source": [
    "pd.options.display.float_format = '{:.3f}'.format\n",
    "dataset.followers_count.astype('float64')"
   ]
  },
  {
   "cell_type": "markdown",
   "id": "45af07db",
   "metadata": {},
   "source": [
    "#### Menampilkan 10 Record Pertama Yang Bertipe Angka\n"
   ]
  },
  {
   "cell_type": "code",
   "execution_count": 44,
   "id": "36abee72",
   "metadata": {},
   "outputs": [
    {
     "data": {
      "text/html": [
       "<div>\n",
       "<style scoped>\n",
       "    .dataframe tbody tr th:only-of-type {\n",
       "        vertical-align: middle;\n",
       "    }\n",
       "\n",
       "    .dataframe tbody tr th {\n",
       "        vertical-align: top;\n",
       "    }\n",
       "\n",
       "    .dataframe thead th {\n",
       "        text-align: right;\n",
       "    }\n",
       "</style>\n",
       "<table border=\"1\" class=\"dataframe\">\n",
       "  <thead>\n",
       "    <tr style=\"text-align: right;\">\n",
       "      <th></th>\n",
       "      <th>following_count</th>\n",
       "      <th>tweet_like_count</th>\n",
       "      <th>tweet_retweet_count</th>\n",
       "      <th>tweet_reply_count</th>\n",
       "      <th>tweet_quote_count</th>\n",
       "    </tr>\n",
       "  </thead>\n",
       "  <tbody>\n",
       "    <tr>\n",
       "      <th>0</th>\n",
       "      <td>0</td>\n",
       "      <td>0</td>\n",
       "      <td>0</td>\n",
       "      <td>0</td>\n",
       "      <td>0</td>\n",
       "    </tr>\n",
       "    <tr>\n",
       "      <th>1</th>\n",
       "      <td>0</td>\n",
       "      <td>0</td>\n",
       "      <td>0</td>\n",
       "      <td>0</td>\n",
       "      <td>0</td>\n",
       "    </tr>\n",
       "    <tr>\n",
       "      <th>2</th>\n",
       "      <td>2</td>\n",
       "      <td>0</td>\n",
       "      <td>0</td>\n",
       "      <td>0</td>\n",
       "      <td>0</td>\n",
       "    </tr>\n",
       "    <tr>\n",
       "      <th>3</th>\n",
       "      <td>4375</td>\n",
       "      <td>0</td>\n",
       "      <td>0</td>\n",
       "      <td>0</td>\n",
       "      <td>0</td>\n",
       "    </tr>\n",
       "    <tr>\n",
       "      <th>4</th>\n",
       "      <td>1063</td>\n",
       "      <td>0</td>\n",
       "      <td>0</td>\n",
       "      <td>0</td>\n",
       "      <td>0</td>\n",
       "    </tr>\n",
       "    <tr>\n",
       "      <th>5</th>\n",
       "      <td>3</td>\n",
       "      <td>0</td>\n",
       "      <td>0</td>\n",
       "      <td>0</td>\n",
       "      <td>0</td>\n",
       "    </tr>\n",
       "    <tr>\n",
       "      <th>6</th>\n",
       "      <td>49</td>\n",
       "      <td>0</td>\n",
       "      <td>0</td>\n",
       "      <td>0</td>\n",
       "      <td>0</td>\n",
       "    </tr>\n",
       "    <tr>\n",
       "      <th>7</th>\n",
       "      <td>0</td>\n",
       "      <td>0</td>\n",
       "      <td>0</td>\n",
       "      <td>0</td>\n",
       "      <td>0</td>\n",
       "    </tr>\n",
       "    <tr>\n",
       "      <th>8</th>\n",
       "      <td>182</td>\n",
       "      <td>0</td>\n",
       "      <td>0</td>\n",
       "      <td>0</td>\n",
       "      <td>0</td>\n",
       "    </tr>\n",
       "    <tr>\n",
       "      <th>9</th>\n",
       "      <td>9</td>\n",
       "      <td>0</td>\n",
       "      <td>0</td>\n",
       "      <td>0</td>\n",
       "      <td>0</td>\n",
       "    </tr>\n",
       "  </tbody>\n",
       "</table>\n",
       "</div>"
      ],
      "text/plain": [
       "   following_count  tweet_like_count  tweet_retweet_count  tweet_reply_count  \\\n",
       "0                0                 0                    0                  0   \n",
       "1                0                 0                    0                  0   \n",
       "2                2                 0                    0                  0   \n",
       "3             4375                 0                    0                  0   \n",
       "4             1063                 0                    0                  0   \n",
       "5                3                 0                    0                  0   \n",
       "6               49                 0                    0                  0   \n",
       "7                0                 0                    0                  0   \n",
       "8              182                 0                    0                  0   \n",
       "9                9                 0                    0                  0   \n",
       "\n",
       "   tweet_quote_count  \n",
       "0                  0  \n",
       "1                  0  \n",
       "2                  0  \n",
       "3                  0  \n",
       "4                  0  \n",
       "5                  0  \n",
       "6                  0  \n",
       "7                  0  \n",
       "8                  0  \n",
       "9                  0  "
      ]
     },
     "execution_count": 44,
     "metadata": {},
     "output_type": "execute_result"
    }
   ],
   "source": [
    "dataset.select_dtypes(include=['int64']).head(10)"
   ]
  },
  {
   "cell_type": "code",
   "execution_count": null,
   "id": "cd801ddd",
   "metadata": {},
   "outputs": [],
   "source": []
  }
 ],
 "metadata": {
  "kernelspec": {
   "display_name": "Python 3 (ipykernel)",
   "language": "python",
   "name": "python3"
  },
  "language_info": {
   "codemirror_mode": {
    "name": "ipython",
    "version": 3
   },
   "file_extension": ".py",
   "mimetype": "text/x-python",
   "name": "python",
   "nbconvert_exporter": "python",
   "pygments_lexer": "ipython3",
   "version": "3.10.7"
  }
 },
 "nbformat": 4,
 "nbformat_minor": 5
}
