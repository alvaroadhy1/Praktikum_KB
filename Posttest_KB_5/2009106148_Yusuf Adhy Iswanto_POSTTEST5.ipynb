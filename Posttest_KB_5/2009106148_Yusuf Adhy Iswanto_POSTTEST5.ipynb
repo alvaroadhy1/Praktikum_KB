{
 "cells": [
  {
   "cell_type": "code",
   "execution_count": 91,
   "id": "a92e9455",
   "metadata": {},
   "outputs": [],
   "source": [
    "import pandas as pd\n",
    "import seaborn as sns\n",
    "import matplotlib.pyplot as plt \n",
    "import numpy as np\n",
    "\n",
    "# untuk algoritma gaus dan multinomial \n",
    "from sklearn.naive_bayes import GaussianNB\n",
    "from sklearn.naive_bayes import MultinomialNB\n",
    "\n",
    "# untuk algoritma k-nearest\n",
    "from sklearn.neighbors import KNeighborsClassifier\n",
    "\n",
    "# untuk data split\n",
    "from sklearn.model_selection import train_test_split\n",
    "\n",
    "# untuk menilai akurasi, klasifikasi\n",
    "from sklearn.metrics import accuracy_score, classification_report\n",
    "\n",
    "# untuk linear regression\n",
    "from sklearn.linear_model import LinearRegression\n",
    "\n",
    "# untuk langin warning\n",
    "import warnings \n",
    "warnings.filterwarnings('ignore')"
   ]
  },
  {
   "cell_type": "code",
   "execution_count": 92,
   "id": "d55703bc",
   "metadata": {},
   "outputs": [
    {
     "data": {
      "text/html": [
       "<div>\n",
       "<style scoped>\n",
       "    .dataframe tbody tr th:only-of-type {\n",
       "        vertical-align: middle;\n",
       "    }\n",
       "\n",
       "    .dataframe tbody tr th {\n",
       "        vertical-align: top;\n",
       "    }\n",
       "\n",
       "    .dataframe thead th {\n",
       "        text-align: right;\n",
       "    }\n",
       "</style>\n",
       "<table border=\"1\" class=\"dataframe\">\n",
       "  <thead>\n",
       "    <tr style=\"text-align: right;\">\n",
       "      <th></th>\n",
       "      <th>Updated On</th>\n",
       "      <th>State</th>\n",
       "      <th>Total Doses Administered</th>\n",
       "      <th>Sessions</th>\n",
       "      <th>Sites</th>\n",
       "      <th>First Dose Administered</th>\n",
       "      <th>Second Dose Administered</th>\n",
       "      <th>Male (Doses Administered)</th>\n",
       "      <th>Female (Doses Administered)</th>\n",
       "      <th>Transgender (Doses Administered)</th>\n",
       "      <th>...</th>\n",
       "      <th>18-44 Years (Doses Administered)</th>\n",
       "      <th>45-60 Years (Doses Administered)</th>\n",
       "      <th>60+ Years (Doses Administered)</th>\n",
       "      <th>18-44 Years(Individuals Vaccinated)</th>\n",
       "      <th>45-60 Years(Individuals Vaccinated)</th>\n",
       "      <th>60+ Years(Individuals Vaccinated)</th>\n",
       "      <th>Male(Individuals Vaccinated)</th>\n",
       "      <th>Female(Individuals Vaccinated)</th>\n",
       "      <th>Transgender(Individuals Vaccinated)</th>\n",
       "      <th>Total Individuals Vaccinated</th>\n",
       "    </tr>\n",
       "  </thead>\n",
       "  <tbody>\n",
       "    <tr>\n",
       "      <th>0</th>\n",
       "      <td>16/01/2021</td>\n",
       "      <td>India</td>\n",
       "      <td>48276.0</td>\n",
       "      <td>3455.0</td>\n",
       "      <td>2957.0</td>\n",
       "      <td>48276.0</td>\n",
       "      <td>0.0</td>\n",
       "      <td>NaN</td>\n",
       "      <td>NaN</td>\n",
       "      <td>NaN</td>\n",
       "      <td>...</td>\n",
       "      <td>NaN</td>\n",
       "      <td>NaN</td>\n",
       "      <td>NaN</td>\n",
       "      <td>NaN</td>\n",
       "      <td>NaN</td>\n",
       "      <td>NaN</td>\n",
       "      <td>23757.0</td>\n",
       "      <td>24517.0</td>\n",
       "      <td>2.0</td>\n",
       "      <td>48276.0</td>\n",
       "    </tr>\n",
       "    <tr>\n",
       "      <th>1</th>\n",
       "      <td>17/01/2021</td>\n",
       "      <td>India</td>\n",
       "      <td>58604.0</td>\n",
       "      <td>8532.0</td>\n",
       "      <td>4954.0</td>\n",
       "      <td>58604.0</td>\n",
       "      <td>0.0</td>\n",
       "      <td>NaN</td>\n",
       "      <td>NaN</td>\n",
       "      <td>NaN</td>\n",
       "      <td>...</td>\n",
       "      <td>NaN</td>\n",
       "      <td>NaN</td>\n",
       "      <td>NaN</td>\n",
       "      <td>NaN</td>\n",
       "      <td>NaN</td>\n",
       "      <td>NaN</td>\n",
       "      <td>27348.0</td>\n",
       "      <td>31252.0</td>\n",
       "      <td>4.0</td>\n",
       "      <td>58604.0</td>\n",
       "    </tr>\n",
       "    <tr>\n",
       "      <th>2</th>\n",
       "      <td>18/01/2021</td>\n",
       "      <td>India</td>\n",
       "      <td>99449.0</td>\n",
       "      <td>13611.0</td>\n",
       "      <td>6583.0</td>\n",
       "      <td>99449.0</td>\n",
       "      <td>0.0</td>\n",
       "      <td>NaN</td>\n",
       "      <td>NaN</td>\n",
       "      <td>NaN</td>\n",
       "      <td>...</td>\n",
       "      <td>NaN</td>\n",
       "      <td>NaN</td>\n",
       "      <td>NaN</td>\n",
       "      <td>NaN</td>\n",
       "      <td>NaN</td>\n",
       "      <td>NaN</td>\n",
       "      <td>41361.0</td>\n",
       "      <td>58083.0</td>\n",
       "      <td>5.0</td>\n",
       "      <td>99449.0</td>\n",
       "    </tr>\n",
       "    <tr>\n",
       "      <th>3</th>\n",
       "      <td>19/01/2021</td>\n",
       "      <td>India</td>\n",
       "      <td>195525.0</td>\n",
       "      <td>17855.0</td>\n",
       "      <td>7951.0</td>\n",
       "      <td>195525.0</td>\n",
       "      <td>0.0</td>\n",
       "      <td>NaN</td>\n",
       "      <td>NaN</td>\n",
       "      <td>NaN</td>\n",
       "      <td>...</td>\n",
       "      <td>NaN</td>\n",
       "      <td>NaN</td>\n",
       "      <td>NaN</td>\n",
       "      <td>NaN</td>\n",
       "      <td>NaN</td>\n",
       "      <td>NaN</td>\n",
       "      <td>81901.0</td>\n",
       "      <td>113613.0</td>\n",
       "      <td>11.0</td>\n",
       "      <td>195525.0</td>\n",
       "    </tr>\n",
       "    <tr>\n",
       "      <th>4</th>\n",
       "      <td>20/01/2021</td>\n",
       "      <td>India</td>\n",
       "      <td>251280.0</td>\n",
       "      <td>25472.0</td>\n",
       "      <td>10504.0</td>\n",
       "      <td>251280.0</td>\n",
       "      <td>0.0</td>\n",
       "      <td>NaN</td>\n",
       "      <td>NaN</td>\n",
       "      <td>NaN</td>\n",
       "      <td>...</td>\n",
       "      <td>NaN</td>\n",
       "      <td>NaN</td>\n",
       "      <td>NaN</td>\n",
       "      <td>NaN</td>\n",
       "      <td>NaN</td>\n",
       "      <td>NaN</td>\n",
       "      <td>98111.0</td>\n",
       "      <td>153145.0</td>\n",
       "      <td>24.0</td>\n",
       "      <td>251280.0</td>\n",
       "    </tr>\n",
       "  </tbody>\n",
       "</table>\n",
       "<p>5 rows × 24 columns</p>\n",
       "</div>"
      ],
      "text/plain": [
       "   Updated On  State  Total Doses Administered  Sessions   Sites   \\\n",
       "0  16/01/2021  India                   48276.0    3455.0   2957.0   \n",
       "1  17/01/2021  India                   58604.0    8532.0   4954.0   \n",
       "2  18/01/2021  India                   99449.0   13611.0   6583.0   \n",
       "3  19/01/2021  India                  195525.0   17855.0   7951.0   \n",
       "4  20/01/2021  India                  251280.0   25472.0  10504.0   \n",
       "\n",
       "   First Dose Administered  Second Dose Administered  \\\n",
       "0                  48276.0                       0.0   \n",
       "1                  58604.0                       0.0   \n",
       "2                  99449.0                       0.0   \n",
       "3                 195525.0                       0.0   \n",
       "4                 251280.0                       0.0   \n",
       "\n",
       "   Male (Doses Administered)  Female (Doses Administered)  \\\n",
       "0                        NaN                          NaN   \n",
       "1                        NaN                          NaN   \n",
       "2                        NaN                          NaN   \n",
       "3                        NaN                          NaN   \n",
       "4                        NaN                          NaN   \n",
       "\n",
       "   Transgender (Doses Administered)  ...  18-44 Years (Doses Administered)  \\\n",
       "0                               NaN  ...                               NaN   \n",
       "1                               NaN  ...                               NaN   \n",
       "2                               NaN  ...                               NaN   \n",
       "3                               NaN  ...                               NaN   \n",
       "4                               NaN  ...                               NaN   \n",
       "\n",
       "   45-60 Years (Doses Administered)  60+ Years (Doses Administered)  \\\n",
       "0                               NaN                             NaN   \n",
       "1                               NaN                             NaN   \n",
       "2                               NaN                             NaN   \n",
       "3                               NaN                             NaN   \n",
       "4                               NaN                             NaN   \n",
       "\n",
       "   18-44 Years(Individuals Vaccinated)  45-60 Years(Individuals Vaccinated)  \\\n",
       "0                                  NaN                                  NaN   \n",
       "1                                  NaN                                  NaN   \n",
       "2                                  NaN                                  NaN   \n",
       "3                                  NaN                                  NaN   \n",
       "4                                  NaN                                  NaN   \n",
       "\n",
       "   60+ Years(Individuals Vaccinated)  Male(Individuals Vaccinated)  \\\n",
       "0                                NaN                       23757.0   \n",
       "1                                NaN                       27348.0   \n",
       "2                                NaN                       41361.0   \n",
       "3                                NaN                       81901.0   \n",
       "4                                NaN                       98111.0   \n",
       "\n",
       "   Female(Individuals Vaccinated)  Transgender(Individuals Vaccinated)  \\\n",
       "0                         24517.0                                  2.0   \n",
       "1                         31252.0                                  4.0   \n",
       "2                         58083.0                                  5.0   \n",
       "3                        113613.0                                 11.0   \n",
       "4                        153145.0                                 24.0   \n",
       "\n",
       "   Total Individuals Vaccinated  \n",
       "0                       48276.0  \n",
       "1                       58604.0  \n",
       "2                       99449.0  \n",
       "3                      195525.0  \n",
       "4                      251280.0  \n",
       "\n",
       "[5 rows x 24 columns]"
      ]
     },
     "execution_count": 92,
     "metadata": {},
     "output_type": "execute_result"
    }
   ],
   "source": [
    "# read data\n",
    "data = pd.read_csv('covid_vaccine_statewise.csv')\n",
    "data.head()"
   ]
  },
  {
   "cell_type": "code",
   "execution_count": 93,
   "id": "9bf8426a",
   "metadata": {},
   "outputs": [
    {
     "name": "stdout",
     "output_type": "stream",
     "text": [
      "<class 'pandas.core.frame.DataFrame'>\n",
      "RangeIndex: 7845 entries, 0 to 7844\n",
      "Data columns (total 24 columns):\n",
      " #   Column                               Non-Null Count  Dtype  \n",
      "---  ------                               --------------  -----  \n",
      " 0   Updated On                           7845 non-null   object \n",
      " 1   State                                7845 non-null   object \n",
      " 2   Total Doses Administered             7621 non-null   float64\n",
      " 3   Sessions                             7621 non-null   float64\n",
      " 4    Sites                               7621 non-null   float64\n",
      " 5   First Dose Administered              7621 non-null   float64\n",
      " 6   Second Dose Administered             7621 non-null   float64\n",
      " 7   Male (Doses Administered)            7461 non-null   float64\n",
      " 8   Female (Doses Administered)          7461 non-null   float64\n",
      " 9   Transgender (Doses Administered)     7461 non-null   float64\n",
      " 10   Covaxin (Doses Administered)        7621 non-null   float64\n",
      " 11  CoviShield (Doses Administered)      7621 non-null   float64\n",
      " 12  Sputnik V (Doses Administered)       2995 non-null   float64\n",
      " 13  AEFI                                 5438 non-null   float64\n",
      " 14  18-44 Years (Doses Administered)     1702 non-null   float64\n",
      " 15  45-60 Years (Doses Administered)     1702 non-null   float64\n",
      " 16  60+ Years (Doses Administered)       1702 non-null   float64\n",
      " 17  18-44 Years(Individuals Vaccinated)  3733 non-null   float64\n",
      " 18  45-60 Years(Individuals Vaccinated)  3734 non-null   float64\n",
      " 19  60+ Years(Individuals Vaccinated)    3734 non-null   float64\n",
      " 20  Male(Individuals Vaccinated)         160 non-null    float64\n",
      " 21  Female(Individuals Vaccinated)       160 non-null    float64\n",
      " 22  Transgender(Individuals Vaccinated)  160 non-null    float64\n",
      " 23  Total Individuals Vaccinated         5919 non-null   float64\n",
      "dtypes: float64(22), object(2)\n",
      "memory usage: 1.4+ MB\n"
     ]
    }
   ],
   "source": [
    "data.info() # Cek Info Dataset"
   ]
  },
  {
   "cell_type": "code",
   "execution_count": 94,
   "id": "dcbd9760",
   "metadata": {},
   "outputs": [
    {
     "data": {
      "text/plain": [
       "Updated On                                0\n",
       "State                                     0\n",
       "Total Doses Administered                224\n",
       "Sessions                                224\n",
       " Sites                                  224\n",
       "First Dose Administered                 224\n",
       "Second Dose Administered                224\n",
       "Male (Doses Administered)               384\n",
       "Female (Doses Administered)             384\n",
       "Transgender (Doses Administered)        384\n",
       " Covaxin (Doses Administered)           224\n",
       "CoviShield (Doses Administered)         224\n",
       "Sputnik V (Doses Administered)         4850\n",
       "AEFI                                   2407\n",
       "18-44 Years (Doses Administered)       6143\n",
       "45-60 Years (Doses Administered)       6143\n",
       "60+ Years (Doses Administered)         6143\n",
       "18-44 Years(Individuals Vaccinated)    4112\n",
       "45-60 Years(Individuals Vaccinated)    4111\n",
       "60+ Years(Individuals Vaccinated)      4111\n",
       "Male(Individuals Vaccinated)           7685\n",
       "Female(Individuals Vaccinated)         7685\n",
       "Transgender(Individuals Vaccinated)    7685\n",
       "Total Individuals Vaccinated           1926\n",
       "dtype: int64"
      ]
     },
     "execution_count": 94,
     "metadata": {},
     "output_type": "execute_result"
    }
   ],
   "source": [
    "data.isna().sum() # Cek Jumlah NaN"
   ]
  },
  {
   "cell_type": "code",
   "execution_count": 95,
   "id": "e5d7fca6",
   "metadata": {},
   "outputs": [
    {
     "data": {
      "text/plain": [
       "Updated On                             0\n",
       "State                                  0\n",
       "Total Doses Administered               0\n",
       "Sessions                               0\n",
       " Sites                                 0\n",
       "First Dose Administered                0\n",
       "Second Dose Administered               0\n",
       "Male (Doses Administered)              0\n",
       "Female (Doses Administered)            0\n",
       "Transgender (Doses Administered)       0\n",
       " Covaxin (Doses Administered)          0\n",
       "CoviShield (Doses Administered)        0\n",
       "Sputnik V (Doses Administered)         0\n",
       "AEFI                                   0\n",
       "18-44 Years (Doses Administered)       0\n",
       "45-60 Years (Doses Administered)       0\n",
       "60+ Years (Doses Administered)         0\n",
       "18-44 Years(Individuals Vaccinated)    0\n",
       "45-60 Years(Individuals Vaccinated)    0\n",
       "60+ Years(Individuals Vaccinated)      0\n",
       "Male(Individuals Vaccinated)           0\n",
       "Female(Individuals Vaccinated)         0\n",
       "Transgender(Individuals Vaccinated)    0\n",
       "Total Individuals Vaccinated           0\n",
       "dtype: int64"
      ]
     },
     "execution_count": 95,
     "metadata": {},
     "output_type": "execute_result"
    }
   ],
   "source": [
    "# import library untuk data cleaning\n",
    "from sklearn.impute import SimpleImputer\n",
    "\n",
    "# membuat variabel yang berisi strategi simple imputer\n",
    "mean = SimpleImputer(strategy='mean')\n",
    "df2 = data.copy()\n",
    "\n",
    "# mengisi data NaN dari tiap tiap record\n",
    "df2['Total Doses Administered'] = mean.fit_transform(df2[['Total Doses Administered']])\n",
    "df2['Sessions'] = mean.fit_transform(df2[['Sessions']])\n",
    "df2[' Sites '] = mean.fit_transform(df2[[' Sites ']])\n",
    "df2['First Dose Administered'] = mean.fit_transform(df2[['First Dose Administered']])\n",
    "df2['Second Dose Administered'] = mean.fit_transform(df2[['Second Dose Administered']])\n",
    "df2['Male (Doses Administered)'] = mean.fit_transform(df2[['Male (Doses Administered)']])\n",
    "df2['Female (Doses Administered)'] = mean.fit_transform(df2[['Female (Doses Administered)']])\n",
    "df2['Transgender (Doses Administered)'] = mean.fit_transform(df2[['Transgender (Doses Administered)']])\n",
    "df2[' Covaxin (Doses Administered)'] = mean.fit_transform(df2[[' Covaxin (Doses Administered)']])\n",
    "df2['CoviShield (Doses Administered)'] = mean.fit_transform(df2[['Total Doses Administered']])\n",
    "df2['Sputnik V (Doses Administered)'] = mean.fit_transform(df2[['CoviShield (Doses Administered)']])\n",
    "df2['AEFI'] = mean.fit_transform(df2[['AEFI']])\n",
    "df2['18-44 Years (Doses Administered)'] = mean.fit_transform(df2[['18-44 Years (Doses Administered)']])\n",
    "df2['45-60 Years (Doses Administered)'] = mean.fit_transform(df2[['45-60 Years (Doses Administered)']])\n",
    "df2['60+ Years (Doses Administered)'] = mean.fit_transform(df2[['60+ Years (Doses Administered)']])\n",
    "df2['18-44 Years(Individuals Vaccinated)'] = mean.fit_transform(df2[['18-44 Years(Individuals Vaccinated)']])\n",
    "df2['45-60 Years(Individuals Vaccinated)'] = mean.fit_transform(df2[['45-60 Years(Individuals Vaccinated)']])\n",
    "df2['60+ Years(Individuals Vaccinated)'] = mean.fit_transform(df2[['60+ Years(Individuals Vaccinated)']])\n",
    "df2['Male(Individuals Vaccinated)'] = mean.fit_transform(df2[['Male(Individuals Vaccinated)']])\n",
    "df2['Female(Individuals Vaccinated)'] = mean.fit_transform(df2[['Female(Individuals Vaccinated)']])\n",
    "df2['Transgender(Individuals Vaccinated)'] = mean.fit_transform(df2[['Transgender(Individuals Vaccinated)']])\n",
    "df2['Total Individuals Vaccinated'] = mean.fit_transform(df2[['Total Individuals Vaccinated']])\n",
    "\n",
    "# cek jumlah NaN tiap tiap atribut\n",
    "df2.isna().sum()"
   ]
  },
  {
   "cell_type": "code",
   "execution_count": 96,
   "id": "a05f8eca",
   "metadata": {},
   "outputs": [],
   "source": [
    "# data split \n",
    "dt = df2[[\"Total Doses Administered\"]]\n",
    "label = df2[[\"State\"]]\n",
    "\n",
    "dt_train, dt_test, label_train, label_test = train_test_split(dt, label, test_size= .2)"
   ]
  },
  {
   "cell_type": "code",
   "execution_count": 97,
   "id": "5bcb1951",
   "metadata": {},
   "outputs": [
    {
     "name": "stdout",
     "output_type": "stream",
     "text": [
      "panjang data training 6276\n",
      "panjang label training 6276\n",
      "panjang data testing 1569\n",
      "panjang label testing 1569\n"
     ]
    }
   ],
   "source": [
    "# untuk ngeprint panjang data yg sudah ter split beserta masing-masing labelnya \n",
    "print(f'panjang data training {len(dt_train)}',\n",
    "     f'panjang label training {len(label_train)}',\n",
    "     f'panjang data testing {len(dt_test)}',\n",
    "     f'panjang label testing {len(label_test)}',\n",
    "      sep='\\n')"
   ]
  },
  {
   "cell_type": "markdown",
   "id": "a6805d17",
   "metadata": {},
   "source": [
    "# Algoritma KNN"
   ]
  },
  {
   "cell_type": "code",
   "execution_count": 99,
   "id": "bdbd5ec5",
   "metadata": {},
   "outputs": [],
   "source": [
    "# mengklasifikasikan data \n",
    "classifier = KNeighborsClassifier(n_neighbors = 5)"
   ]
  },
  {
   "cell_type": "code",
   "execution_count": 100,
   "id": "e22337e6",
   "metadata": {},
   "outputs": [
    {
     "data": {
      "text/html": [
       "<style>#sk-container-id-9 {color: black;background-color: white;}#sk-container-id-9 pre{padding: 0;}#sk-container-id-9 div.sk-toggleable {background-color: white;}#sk-container-id-9 label.sk-toggleable__label {cursor: pointer;display: block;width: 100%;margin-bottom: 0;padding: 0.3em;box-sizing: border-box;text-align: center;}#sk-container-id-9 label.sk-toggleable__label-arrow:before {content: \"▸\";float: left;margin-right: 0.25em;color: #696969;}#sk-container-id-9 label.sk-toggleable__label-arrow:hover:before {color: black;}#sk-container-id-9 div.sk-estimator:hover label.sk-toggleable__label-arrow:before {color: black;}#sk-container-id-9 div.sk-toggleable__content {max-height: 0;max-width: 0;overflow: hidden;text-align: left;background-color: #f0f8ff;}#sk-container-id-9 div.sk-toggleable__content pre {margin: 0.2em;color: black;border-radius: 0.25em;background-color: #f0f8ff;}#sk-container-id-9 input.sk-toggleable__control:checked~div.sk-toggleable__content {max-height: 200px;max-width: 100%;overflow: auto;}#sk-container-id-9 input.sk-toggleable__control:checked~label.sk-toggleable__label-arrow:before {content: \"▾\";}#sk-container-id-9 div.sk-estimator input.sk-toggleable__control:checked~label.sk-toggleable__label {background-color: #d4ebff;}#sk-container-id-9 div.sk-label input.sk-toggleable__control:checked~label.sk-toggleable__label {background-color: #d4ebff;}#sk-container-id-9 input.sk-hidden--visually {border: 0;clip: rect(1px 1px 1px 1px);clip: rect(1px, 1px, 1px, 1px);height: 1px;margin: -1px;overflow: hidden;padding: 0;position: absolute;width: 1px;}#sk-container-id-9 div.sk-estimator {font-family: monospace;background-color: #f0f8ff;border: 1px dotted black;border-radius: 0.25em;box-sizing: border-box;margin-bottom: 0.5em;}#sk-container-id-9 div.sk-estimator:hover {background-color: #d4ebff;}#sk-container-id-9 div.sk-parallel-item::after {content: \"\";width: 100%;border-bottom: 1px solid gray;flex-grow: 1;}#sk-container-id-9 div.sk-label:hover label.sk-toggleable__label {background-color: #d4ebff;}#sk-container-id-9 div.sk-serial::before {content: \"\";position: absolute;border-left: 1px solid gray;box-sizing: border-box;top: 0;bottom: 0;left: 50%;z-index: 0;}#sk-container-id-9 div.sk-serial {display: flex;flex-direction: column;align-items: center;background-color: white;padding-right: 0.2em;padding-left: 0.2em;position: relative;}#sk-container-id-9 div.sk-item {position: relative;z-index: 1;}#sk-container-id-9 div.sk-parallel {display: flex;align-items: stretch;justify-content: center;background-color: white;position: relative;}#sk-container-id-9 div.sk-item::before, #sk-container-id-9 div.sk-parallel-item::before {content: \"\";position: absolute;border-left: 1px solid gray;box-sizing: border-box;top: 0;bottom: 0;left: 50%;z-index: -1;}#sk-container-id-9 div.sk-parallel-item {display: flex;flex-direction: column;z-index: 1;position: relative;background-color: white;}#sk-container-id-9 div.sk-parallel-item:first-child::after {align-self: flex-end;width: 50%;}#sk-container-id-9 div.sk-parallel-item:last-child::after {align-self: flex-start;width: 50%;}#sk-container-id-9 div.sk-parallel-item:only-child::after {width: 0;}#sk-container-id-9 div.sk-dashed-wrapped {border: 1px dashed gray;margin: 0 0.4em 0.5em 0.4em;box-sizing: border-box;padding-bottom: 0.4em;background-color: white;}#sk-container-id-9 div.sk-label label {font-family: monospace;font-weight: bold;display: inline-block;line-height: 1.2em;}#sk-container-id-9 div.sk-label-container {text-align: center;}#sk-container-id-9 div.sk-container {/* jupyter's `normalize.less` sets `[hidden] { display: none; }` but bootstrap.min.css set `[hidden] { display: none !important; }` so we also need the `!important` here to be able to override the default hidden behavior on the sphinx rendered scikit-learn.org. See: https://github.com/scikit-learn/scikit-learn/issues/21755 */display: inline-block !important;position: relative;}#sk-container-id-9 div.sk-text-repr-fallback {display: none;}</style><div id=\"sk-container-id-9\" class=\"sk-top-container\"><div class=\"sk-text-repr-fallback\"><pre>KNeighborsClassifier()</pre><b>In a Jupyter environment, please rerun this cell to show the HTML representation or trust the notebook. <br />On GitHub, the HTML representation is unable to render, please try loading this page with nbviewer.org.</b></div><div class=\"sk-container\" hidden><div class=\"sk-item\"><div class=\"sk-estimator sk-toggleable\"><input class=\"sk-toggleable__control sk-hidden--visually\" id=\"sk-estimator-id-9\" type=\"checkbox\" checked><label for=\"sk-estimator-id-9\" class=\"sk-toggleable__label sk-toggleable__label-arrow\">KNeighborsClassifier</label><div class=\"sk-toggleable__content\"><pre>KNeighborsClassifier()</pre></div></div></div></div></div>"
      ],
      "text/plain": [
       "KNeighborsClassifier()"
      ]
     },
     "execution_count": 100,
     "metadata": {},
     "output_type": "execute_result"
    }
   ],
   "source": [
    "# train data yg sudah diklasifikasi\n",
    "classifier.fit(dt_train, label_train)"
   ]
  },
  {
   "cell_type": "code",
   "execution_count": 101,
   "id": "cd09908e",
   "metadata": {},
   "outputs": [],
   "source": [
    "predicted_label = classifier.predict(dt_test)\n",
    "akurasi_csf = accuracy_score(label_test, predicted_label)"
   ]
  },
  {
   "cell_type": "code",
   "execution_count": 102,
   "id": "ff74d34f",
   "metadata": {},
   "outputs": [
    {
     "name": "stdout",
     "output_type": "stream",
     "text": [
      "Hasil Prediksi\t: ['Andaman and Nicobar Islands' 'Bihar' 'Gujarat' ... 'Chhattisgarh'\n",
      " 'Mizoram' 'Arunachal Pradesh']\n",
      "Label\t\t:                                          State\n",
      "656                          Arunachal Pradesh\n",
      "3155                         Jammu and Kashmir\n",
      "3540                                 Karnataka\n",
      "461                             Andhra Pradesh\n",
      "4207                               Lakshadweep\n",
      "...                                        ...\n",
      "1733  Dadra and Nagar Haveli and Daman and Diu\n",
      "4341                            Madhya Pradesh\n",
      "6900                                 Telangana\n",
      "7669                               West Bengal\n",
      "3912                                    Ladakh\n",
      "\n",
      "[1569 rows x 1 columns]\n",
      "Akurasi\t\t: 0.10516252390057361\n"
     ]
    }
   ],
   "source": [
    "print(f'Hasil Prediksi\\t: {predicted_label}',\n",
    "      f'Label\\t\\t: {label_test}',\n",
    "      f'Akurasi\\t\\t: {akurasi_csf}',\n",
    "     sep='\\n')"
   ]
  },
  {
   "cell_type": "code",
   "execution_count": 103,
   "id": "31e2b4a5",
   "metadata": {},
   "outputs": [
    {
     "data": {
      "text/plain": [
       "0.10516252390057361"
      ]
     },
     "execution_count": 103,
     "metadata": {},
     "output_type": "execute_result"
    }
   ],
   "source": [
    "classifier.score(dt_test, label_test)"
   ]
  },
  {
   "cell_type": "markdown",
   "id": "13315a5c",
   "metadata": {},
   "source": [
    "# Naive Bayes"
   ]
  },
  {
   "cell_type": "code",
   "execution_count": 104,
   "id": "85ad604d",
   "metadata": {},
   "outputs": [],
   "source": [
    "GNB = GaussianNB()\n",
    "MNB = MultinomialNB()"
   ]
  },
  {
   "cell_type": "code",
   "execution_count": 105,
   "id": "24a74dd0",
   "metadata": {},
   "outputs": [
    {
     "data": {
      "text/html": [
       "<style>#sk-container-id-10 {color: black;background-color: white;}#sk-container-id-10 pre{padding: 0;}#sk-container-id-10 div.sk-toggleable {background-color: white;}#sk-container-id-10 label.sk-toggleable__label {cursor: pointer;display: block;width: 100%;margin-bottom: 0;padding: 0.3em;box-sizing: border-box;text-align: center;}#sk-container-id-10 label.sk-toggleable__label-arrow:before {content: \"▸\";float: left;margin-right: 0.25em;color: #696969;}#sk-container-id-10 label.sk-toggleable__label-arrow:hover:before {color: black;}#sk-container-id-10 div.sk-estimator:hover label.sk-toggleable__label-arrow:before {color: black;}#sk-container-id-10 div.sk-toggleable__content {max-height: 0;max-width: 0;overflow: hidden;text-align: left;background-color: #f0f8ff;}#sk-container-id-10 div.sk-toggleable__content pre {margin: 0.2em;color: black;border-radius: 0.25em;background-color: #f0f8ff;}#sk-container-id-10 input.sk-toggleable__control:checked~div.sk-toggleable__content {max-height: 200px;max-width: 100%;overflow: auto;}#sk-container-id-10 input.sk-toggleable__control:checked~label.sk-toggleable__label-arrow:before {content: \"▾\";}#sk-container-id-10 div.sk-estimator input.sk-toggleable__control:checked~label.sk-toggleable__label {background-color: #d4ebff;}#sk-container-id-10 div.sk-label input.sk-toggleable__control:checked~label.sk-toggleable__label {background-color: #d4ebff;}#sk-container-id-10 input.sk-hidden--visually {border: 0;clip: rect(1px 1px 1px 1px);clip: rect(1px, 1px, 1px, 1px);height: 1px;margin: -1px;overflow: hidden;padding: 0;position: absolute;width: 1px;}#sk-container-id-10 div.sk-estimator {font-family: monospace;background-color: #f0f8ff;border: 1px dotted black;border-radius: 0.25em;box-sizing: border-box;margin-bottom: 0.5em;}#sk-container-id-10 div.sk-estimator:hover {background-color: #d4ebff;}#sk-container-id-10 div.sk-parallel-item::after {content: \"\";width: 100%;border-bottom: 1px solid gray;flex-grow: 1;}#sk-container-id-10 div.sk-label:hover label.sk-toggleable__label {background-color: #d4ebff;}#sk-container-id-10 div.sk-serial::before {content: \"\";position: absolute;border-left: 1px solid gray;box-sizing: border-box;top: 0;bottom: 0;left: 50%;z-index: 0;}#sk-container-id-10 div.sk-serial {display: flex;flex-direction: column;align-items: center;background-color: white;padding-right: 0.2em;padding-left: 0.2em;position: relative;}#sk-container-id-10 div.sk-item {position: relative;z-index: 1;}#sk-container-id-10 div.sk-parallel {display: flex;align-items: stretch;justify-content: center;background-color: white;position: relative;}#sk-container-id-10 div.sk-item::before, #sk-container-id-10 div.sk-parallel-item::before {content: \"\";position: absolute;border-left: 1px solid gray;box-sizing: border-box;top: 0;bottom: 0;left: 50%;z-index: -1;}#sk-container-id-10 div.sk-parallel-item {display: flex;flex-direction: column;z-index: 1;position: relative;background-color: white;}#sk-container-id-10 div.sk-parallel-item:first-child::after {align-self: flex-end;width: 50%;}#sk-container-id-10 div.sk-parallel-item:last-child::after {align-self: flex-start;width: 50%;}#sk-container-id-10 div.sk-parallel-item:only-child::after {width: 0;}#sk-container-id-10 div.sk-dashed-wrapped {border: 1px dashed gray;margin: 0 0.4em 0.5em 0.4em;box-sizing: border-box;padding-bottom: 0.4em;background-color: white;}#sk-container-id-10 div.sk-label label {font-family: monospace;font-weight: bold;display: inline-block;line-height: 1.2em;}#sk-container-id-10 div.sk-label-container {text-align: center;}#sk-container-id-10 div.sk-container {/* jupyter's `normalize.less` sets `[hidden] { display: none; }` but bootstrap.min.css set `[hidden] { display: none !important; }` so we also need the `!important` here to be able to override the default hidden behavior on the sphinx rendered scikit-learn.org. See: https://github.com/scikit-learn/scikit-learn/issues/21755 */display: inline-block !important;position: relative;}#sk-container-id-10 div.sk-text-repr-fallback {display: none;}</style><div id=\"sk-container-id-10\" class=\"sk-top-container\"><div class=\"sk-text-repr-fallback\"><pre>GaussianNB()</pre><b>In a Jupyter environment, please rerun this cell to show the HTML representation or trust the notebook. <br />On GitHub, the HTML representation is unable to render, please try loading this page with nbviewer.org.</b></div><div class=\"sk-container\" hidden><div class=\"sk-item\"><div class=\"sk-estimator sk-toggleable\"><input class=\"sk-toggleable__control sk-hidden--visually\" id=\"sk-estimator-id-10\" type=\"checkbox\" checked><label for=\"sk-estimator-id-10\" class=\"sk-toggleable__label sk-toggleable__label-arrow\">GaussianNB</label><div class=\"sk-toggleable__content\"><pre>GaussianNB()</pre></div></div></div></div></div>"
      ],
      "text/plain": [
       "GaussianNB()"
      ]
     },
     "execution_count": 105,
     "metadata": {},
     "output_type": "execute_result"
    }
   ],
   "source": [
    "GNB.fit(dt_train, label_train)"
   ]
  },
  {
   "cell_type": "code",
   "execution_count": 106,
   "id": "ba40cef1",
   "metadata": {},
   "outputs": [
    {
     "data": {
      "text/html": [
       "<style>#sk-container-id-11 {color: black;background-color: white;}#sk-container-id-11 pre{padding: 0;}#sk-container-id-11 div.sk-toggleable {background-color: white;}#sk-container-id-11 label.sk-toggleable__label {cursor: pointer;display: block;width: 100%;margin-bottom: 0;padding: 0.3em;box-sizing: border-box;text-align: center;}#sk-container-id-11 label.sk-toggleable__label-arrow:before {content: \"▸\";float: left;margin-right: 0.25em;color: #696969;}#sk-container-id-11 label.sk-toggleable__label-arrow:hover:before {color: black;}#sk-container-id-11 div.sk-estimator:hover label.sk-toggleable__label-arrow:before {color: black;}#sk-container-id-11 div.sk-toggleable__content {max-height: 0;max-width: 0;overflow: hidden;text-align: left;background-color: #f0f8ff;}#sk-container-id-11 div.sk-toggleable__content pre {margin: 0.2em;color: black;border-radius: 0.25em;background-color: #f0f8ff;}#sk-container-id-11 input.sk-toggleable__control:checked~div.sk-toggleable__content {max-height: 200px;max-width: 100%;overflow: auto;}#sk-container-id-11 input.sk-toggleable__control:checked~label.sk-toggleable__label-arrow:before {content: \"▾\";}#sk-container-id-11 div.sk-estimator input.sk-toggleable__control:checked~label.sk-toggleable__label {background-color: #d4ebff;}#sk-container-id-11 div.sk-label input.sk-toggleable__control:checked~label.sk-toggleable__label {background-color: #d4ebff;}#sk-container-id-11 input.sk-hidden--visually {border: 0;clip: rect(1px 1px 1px 1px);clip: rect(1px, 1px, 1px, 1px);height: 1px;margin: -1px;overflow: hidden;padding: 0;position: absolute;width: 1px;}#sk-container-id-11 div.sk-estimator {font-family: monospace;background-color: #f0f8ff;border: 1px dotted black;border-radius: 0.25em;box-sizing: border-box;margin-bottom: 0.5em;}#sk-container-id-11 div.sk-estimator:hover {background-color: #d4ebff;}#sk-container-id-11 div.sk-parallel-item::after {content: \"\";width: 100%;border-bottom: 1px solid gray;flex-grow: 1;}#sk-container-id-11 div.sk-label:hover label.sk-toggleable__label {background-color: #d4ebff;}#sk-container-id-11 div.sk-serial::before {content: \"\";position: absolute;border-left: 1px solid gray;box-sizing: border-box;top: 0;bottom: 0;left: 50%;z-index: 0;}#sk-container-id-11 div.sk-serial {display: flex;flex-direction: column;align-items: center;background-color: white;padding-right: 0.2em;padding-left: 0.2em;position: relative;}#sk-container-id-11 div.sk-item {position: relative;z-index: 1;}#sk-container-id-11 div.sk-parallel {display: flex;align-items: stretch;justify-content: center;background-color: white;position: relative;}#sk-container-id-11 div.sk-item::before, #sk-container-id-11 div.sk-parallel-item::before {content: \"\";position: absolute;border-left: 1px solid gray;box-sizing: border-box;top: 0;bottom: 0;left: 50%;z-index: -1;}#sk-container-id-11 div.sk-parallel-item {display: flex;flex-direction: column;z-index: 1;position: relative;background-color: white;}#sk-container-id-11 div.sk-parallel-item:first-child::after {align-self: flex-end;width: 50%;}#sk-container-id-11 div.sk-parallel-item:last-child::after {align-self: flex-start;width: 50%;}#sk-container-id-11 div.sk-parallel-item:only-child::after {width: 0;}#sk-container-id-11 div.sk-dashed-wrapped {border: 1px dashed gray;margin: 0 0.4em 0.5em 0.4em;box-sizing: border-box;padding-bottom: 0.4em;background-color: white;}#sk-container-id-11 div.sk-label label {font-family: monospace;font-weight: bold;display: inline-block;line-height: 1.2em;}#sk-container-id-11 div.sk-label-container {text-align: center;}#sk-container-id-11 div.sk-container {/* jupyter's `normalize.less` sets `[hidden] { display: none; }` but bootstrap.min.css set `[hidden] { display: none !important; }` so we also need the `!important` here to be able to override the default hidden behavior on the sphinx rendered scikit-learn.org. See: https://github.com/scikit-learn/scikit-learn/issues/21755 */display: inline-block !important;position: relative;}#sk-container-id-11 div.sk-text-repr-fallback {display: none;}</style><div id=\"sk-container-id-11\" class=\"sk-top-container\"><div class=\"sk-text-repr-fallback\"><pre>MultinomialNB()</pre><b>In a Jupyter environment, please rerun this cell to show the HTML representation or trust the notebook. <br />On GitHub, the HTML representation is unable to render, please try loading this page with nbviewer.org.</b></div><div class=\"sk-container\" hidden><div class=\"sk-item\"><div class=\"sk-estimator sk-toggleable\"><input class=\"sk-toggleable__control sk-hidden--visually\" id=\"sk-estimator-id-11\" type=\"checkbox\" checked><label for=\"sk-estimator-id-11\" class=\"sk-toggleable__label sk-toggleable__label-arrow\">MultinomialNB</label><div class=\"sk-toggleable__content\"><pre>MultinomialNB()</pre></div></div></div></div></div>"
      ],
      "text/plain": [
       "MultinomialNB()"
      ]
     },
     "execution_count": 106,
     "metadata": {},
     "output_type": "execute_result"
    }
   ],
   "source": [
    "MNB.fit(dt_train, label_train)"
   ]
  },
  {
   "cell_type": "code",
   "execution_count": 107,
   "id": "d3f67371",
   "metadata": {},
   "outputs": [],
   "source": [
    "GNB_predict = GNB.predict(dt_test)\n",
    "MNB_predict = MNB.predict(dt_test)"
   ]
  },
  {
   "cell_type": "code",
   "execution_count": 108,
   "id": "59884373",
   "metadata": {},
   "outputs": [
    {
     "name": "stdout",
     "output_type": "stream",
     "text": [
      "Gaussisan NB : \n",
      "                                          precision    recall  f1-score   support\n",
      "\n",
      "             Andaman and Nicobar Islands       0.07      0.95      0.12        42\n",
      "                          Andhra Pradesh       0.00      0.00      0.00        46\n",
      "                       Arunachal Pradesh       0.00      0.00      0.00        36\n",
      "                                   Assam       0.00      0.00      0.00        44\n",
      "                                   Bihar       0.00      0.00      0.00        52\n",
      "                              Chandigarh       0.00      0.00      0.00        47\n",
      "                            Chhattisgarh       0.16      0.29      0.21        45\n",
      "Dadra and Nagar Haveli and Daman and Diu       0.00      0.00      0.00        49\n",
      "                                   Delhi       0.00      0.00      0.00        40\n",
      "                                     Goa       0.05      0.26      0.08        39\n",
      "                                 Gujarat       0.03      0.02      0.03        43\n",
      "                                 Haryana       0.00      0.00      0.00        43\n",
      "                        Himachal Pradesh       0.00      0.00      0.00        46\n",
      "                                   India       0.97      0.77      0.86        43\n",
      "                       Jammu and Kashmir       0.08      0.07      0.07        43\n",
      "                               Jharkhand       0.00      0.00      0.00        46\n",
      "                               Karnataka       0.00      0.00      0.00        43\n",
      "                                  Kerala       0.05      0.25      0.09        36\n",
      "                                  Ladakh       0.00      0.00      0.00        45\n",
      "                             Lakshadweep       0.00      0.00      0.00        41\n",
      "                          Madhya Pradesh       0.00      0.00      0.00        42\n",
      "                             Maharashtra       0.14      0.30      0.19        37\n",
      "                                 Manipur       0.00      0.00      0.00        46\n",
      "                               Meghalaya       0.00      0.00      0.00        40\n",
      "                                 Mizoram       0.00      0.00      0.00        40\n",
      "                                Nagaland       0.00      0.00      0.00        44\n",
      "                                  Odisha       0.00      0.00      0.00        51\n",
      "                              Puducherry       0.00      0.00      0.00        41\n",
      "                                  Punjab       0.05      0.12      0.07        32\n",
      "                               Rajasthan       0.20      0.03      0.04        40\n",
      "                                  Sikkim       0.00      0.00      0.00        58\n",
      "                              Tamil Nadu       0.00      0.00      0.00        30\n",
      "                               Telangana       0.09      0.02      0.04        42\n",
      "                                 Tripura       0.08      0.38      0.13        29\n",
      "                           Uttar Pradesh       0.33      0.15      0.21        39\n",
      "                             Uttarakhand       0.21      0.18      0.19        38\n",
      "                             West Bengal       0.05      0.02      0.03        51\n",
      "\n",
      "                                accuracy                           0.10      1569\n",
      "                               macro avg       0.07      0.10      0.06      1569\n",
      "                            weighted avg       0.07      0.10      0.06      1569\n",
      "\n"
     ]
    }
   ],
   "source": [
    "print(\"Gaussisan NB : \")\n",
    "print(classification_report(label_test,GNB_predict))"
   ]
  },
  {
   "cell_type": "code",
   "execution_count": 109,
   "id": "28b1918c",
   "metadata": {},
   "outputs": [
    {
     "name": "stdout",
     "output_type": "stream",
     "text": [
      "Multinomial NB : \n",
      "                                          precision    recall  f1-score   support\n",
      "\n",
      "             Andaman and Nicobar Islands       0.00      0.00      0.00        42\n",
      "                          Andhra Pradesh       0.00      0.00      0.00        46\n",
      "                       Arunachal Pradesh       0.00      0.00      0.00        36\n",
      "                                   Assam       0.00      0.00      0.00        44\n",
      "                                   Bihar       0.00      0.00      0.00        52\n",
      "                              Chandigarh       0.00      0.00      0.00        47\n",
      "                            Chhattisgarh       0.00      0.00      0.00        45\n",
      "Dadra and Nagar Haveli and Daman and Diu       0.00      0.00      0.00        49\n",
      "                                   Delhi       0.00      0.00      0.00        40\n",
      "                                     Goa       0.00      0.00      0.00        39\n",
      "                                 Gujarat       0.00      0.00      0.00        43\n",
      "                                 Haryana       0.00      0.00      0.00        43\n",
      "                        Himachal Pradesh       0.00      0.00      0.00        46\n",
      "                                   India       0.00      0.00      0.00        43\n",
      "                       Jammu and Kashmir       0.00      0.00      0.00        43\n",
      "                               Jharkhand       0.00      0.00      0.00        46\n",
      "                               Karnataka       0.00      0.00      0.00        43\n",
      "                                  Kerala       0.00      0.00      0.00        36\n",
      "                                  Ladakh       0.00      0.00      0.00        45\n",
      "                             Lakshadweep       0.00      0.00      0.00        41\n",
      "                          Madhya Pradesh       0.00      0.00      0.00        42\n",
      "                             Maharashtra       0.00      0.00      0.00        37\n",
      "                                 Manipur       0.00      0.00      0.00        46\n",
      "                               Meghalaya       0.00      0.00      0.00        40\n",
      "                                 Mizoram       0.00      0.00      0.00        40\n",
      "                                Nagaland       0.00      0.00      0.00        44\n",
      "                                  Odisha       0.00      0.00      0.00        51\n",
      "                              Puducherry       0.00      0.00      0.00        41\n",
      "                                  Punjab       0.00      0.00      0.00        32\n",
      "                               Rajasthan       0.00      0.00      0.00        40\n",
      "                                  Sikkim       0.00      0.00      0.00        58\n",
      "                              Tamil Nadu       0.00      0.00      0.00        30\n",
      "                               Telangana       0.00      0.00      0.00        42\n",
      "                                 Tripura       0.02      1.00      0.04        29\n",
      "                           Uttar Pradesh       0.00      0.00      0.00        39\n",
      "                             Uttarakhand       0.00      0.00      0.00        38\n",
      "                             West Bengal       0.00      0.00      0.00        51\n",
      "\n",
      "                                accuracy                           0.02      1569\n",
      "                               macro avg       0.00      0.03      0.00      1569\n",
      "                            weighted avg       0.00      0.02      0.00      1569\n",
      "\n"
     ]
    }
   ],
   "source": [
    "print(\"Multinomial NB : \")\n",
    "print(classification_report(label_test,MNB_predict))"
   ]
  },
  {
   "cell_type": "code",
   "execution_count": 110,
   "id": "0b894514",
   "metadata": {},
   "outputs": [
    {
     "name": "stdout",
     "output_type": "stream",
     "text": [
      "Hasil Prediksi\t: ['Andaman and Nicobar Islands' 'Punjab' 'Rajasthan' ... 'Punjab' 'Goa'\n",
      " 'Andaman and Nicobar Islands']\n",
      "Label\t\t:                                          State\n",
      "656                          Arunachal Pradesh\n",
      "3155                         Jammu and Kashmir\n",
      "3540                                 Karnataka\n",
      "461                             Andhra Pradesh\n",
      "4207                               Lakshadweep\n",
      "...                                        ...\n",
      "1733  Dadra and Nagar Haveli and Daman and Diu\n",
      "4341                            Madhya Pradesh\n",
      "6900                                 Telangana\n",
      "7669                               West Bengal\n",
      "3912                                    Ladakh\n",
      "\n",
      "[1569 rows x 1 columns]\n",
      "Akurasi\t\t: 0.09623964308476737\n"
     ]
    }
   ],
   "source": [
    "predicted_nb = GNB.predict(dt_test)\n",
    "akurasi_nb = accuracy_score(label_test, predicted_nb)\n",
    "\n",
    "print(f'Hasil Prediksi\\t: {predicted_nb}',\n",
    "      f'Label\\t\\t: {label_test}',\n",
    "      f'Akurasi\\t\\t: {akurasi_nb}',\n",
    "     sep='\\n')"
   ]
  },
  {
   "cell_type": "code",
   "execution_count": 111,
   "id": "e92e310d",
   "metadata": {},
   "outputs": [
    {
     "name": "stdout",
     "output_type": "stream",
     "text": [
      "Hasil Prediksi\t: ['Andaman and Nicobar Islands' 'Bihar' 'Gujarat' ... 'Chhattisgarh'\n",
      " 'Mizoram' 'Arunachal Pradesh']\n",
      "Label\t\t:                                          State\n",
      "656                          Arunachal Pradesh\n",
      "3155                         Jammu and Kashmir\n",
      "3540                                 Karnataka\n",
      "461                             Andhra Pradesh\n",
      "4207                               Lakshadweep\n",
      "...                                        ...\n",
      "1733  Dadra and Nagar Haveli and Daman and Diu\n",
      "4341                            Madhya Pradesh\n",
      "6900                                 Telangana\n",
      "7669                               West Bengal\n",
      "3912                                    Ladakh\n",
      "\n",
      "[1569 rows x 1 columns]\n",
      "Akurasi\t\t: 0.10516252390057361\n"
     ]
    }
   ],
   "source": [
    "predicted_nb = MNB.predict(dt_test)\n",
    "akurasi_nb = accuracy_score(label_test, predicted_nb)\n",
    "\n",
    "print(f'Hasil Prediksi\\t: {predicted_label}',\n",
    "      f'Label\\t\\t: {label_test}',\n",
    "      f'Akurasi\\t\\t: {akurasi_csf}',\n",
    "     sep='\\n')"
   ]
  },
  {
   "cell_type": "markdown",
   "id": "008d4381",
   "metadata": {},
   "source": [
    "# Regresi"
   ]
  },
  {
   "cell_type": "code",
   "execution_count": 112,
   "id": "8171df55",
   "metadata": {},
   "outputs": [],
   "source": [
    "LR = LinearRegression()"
   ]
  },
  {
   "cell_type": "code",
   "execution_count": 113,
   "id": "6235ff23",
   "metadata": {},
   "outputs": [
    {
     "data": {
      "text/html": [
       "<style>#sk-container-id-12 {color: black;background-color: white;}#sk-container-id-12 pre{padding: 0;}#sk-container-id-12 div.sk-toggleable {background-color: white;}#sk-container-id-12 label.sk-toggleable__label {cursor: pointer;display: block;width: 100%;margin-bottom: 0;padding: 0.3em;box-sizing: border-box;text-align: center;}#sk-container-id-12 label.sk-toggleable__label-arrow:before {content: \"▸\";float: left;margin-right: 0.25em;color: #696969;}#sk-container-id-12 label.sk-toggleable__label-arrow:hover:before {color: black;}#sk-container-id-12 div.sk-estimator:hover label.sk-toggleable__label-arrow:before {color: black;}#sk-container-id-12 div.sk-toggleable__content {max-height: 0;max-width: 0;overflow: hidden;text-align: left;background-color: #f0f8ff;}#sk-container-id-12 div.sk-toggleable__content pre {margin: 0.2em;color: black;border-radius: 0.25em;background-color: #f0f8ff;}#sk-container-id-12 input.sk-toggleable__control:checked~div.sk-toggleable__content {max-height: 200px;max-width: 100%;overflow: auto;}#sk-container-id-12 input.sk-toggleable__control:checked~label.sk-toggleable__label-arrow:before {content: \"▾\";}#sk-container-id-12 div.sk-estimator input.sk-toggleable__control:checked~label.sk-toggleable__label {background-color: #d4ebff;}#sk-container-id-12 div.sk-label input.sk-toggleable__control:checked~label.sk-toggleable__label {background-color: #d4ebff;}#sk-container-id-12 input.sk-hidden--visually {border: 0;clip: rect(1px 1px 1px 1px);clip: rect(1px, 1px, 1px, 1px);height: 1px;margin: -1px;overflow: hidden;padding: 0;position: absolute;width: 1px;}#sk-container-id-12 div.sk-estimator {font-family: monospace;background-color: #f0f8ff;border: 1px dotted black;border-radius: 0.25em;box-sizing: border-box;margin-bottom: 0.5em;}#sk-container-id-12 div.sk-estimator:hover {background-color: #d4ebff;}#sk-container-id-12 div.sk-parallel-item::after {content: \"\";width: 100%;border-bottom: 1px solid gray;flex-grow: 1;}#sk-container-id-12 div.sk-label:hover label.sk-toggleable__label {background-color: #d4ebff;}#sk-container-id-12 div.sk-serial::before {content: \"\";position: absolute;border-left: 1px solid gray;box-sizing: border-box;top: 0;bottom: 0;left: 50%;z-index: 0;}#sk-container-id-12 div.sk-serial {display: flex;flex-direction: column;align-items: center;background-color: white;padding-right: 0.2em;padding-left: 0.2em;position: relative;}#sk-container-id-12 div.sk-item {position: relative;z-index: 1;}#sk-container-id-12 div.sk-parallel {display: flex;align-items: stretch;justify-content: center;background-color: white;position: relative;}#sk-container-id-12 div.sk-item::before, #sk-container-id-12 div.sk-parallel-item::before {content: \"\";position: absolute;border-left: 1px solid gray;box-sizing: border-box;top: 0;bottom: 0;left: 50%;z-index: -1;}#sk-container-id-12 div.sk-parallel-item {display: flex;flex-direction: column;z-index: 1;position: relative;background-color: white;}#sk-container-id-12 div.sk-parallel-item:first-child::after {align-self: flex-end;width: 50%;}#sk-container-id-12 div.sk-parallel-item:last-child::after {align-self: flex-start;width: 50%;}#sk-container-id-12 div.sk-parallel-item:only-child::after {width: 0;}#sk-container-id-12 div.sk-dashed-wrapped {border: 1px dashed gray;margin: 0 0.4em 0.5em 0.4em;box-sizing: border-box;padding-bottom: 0.4em;background-color: white;}#sk-container-id-12 div.sk-label label {font-family: monospace;font-weight: bold;display: inline-block;line-height: 1.2em;}#sk-container-id-12 div.sk-label-container {text-align: center;}#sk-container-id-12 div.sk-container {/* jupyter's `normalize.less` sets `[hidden] { display: none; }` but bootstrap.min.css set `[hidden] { display: none !important; }` so we also need the `!important` here to be able to override the default hidden behavior on the sphinx rendered scikit-learn.org. See: https://github.com/scikit-learn/scikit-learn/issues/21755 */display: inline-block !important;position: relative;}#sk-container-id-12 div.sk-text-repr-fallback {display: none;}</style><div id=\"sk-container-id-12\" class=\"sk-top-container\"><div class=\"sk-text-repr-fallback\"><pre>LinearRegression()</pre><b>In a Jupyter environment, please rerun this cell to show the HTML representation or trust the notebook. <br />On GitHub, the HTML representation is unable to render, please try loading this page with nbviewer.org.</b></div><div class=\"sk-container\" hidden><div class=\"sk-item\"><div class=\"sk-estimator sk-toggleable\"><input class=\"sk-toggleable__control sk-hidden--visually\" id=\"sk-estimator-id-12\" type=\"checkbox\" checked><label for=\"sk-estimator-id-12\" class=\"sk-toggleable__label sk-toggleable__label-arrow\">LinearRegression</label><div class=\"sk-toggleable__content\"><pre>LinearRegression()</pre></div></div></div></div></div>"
      ],
      "text/plain": [
       "LinearRegression()"
      ]
     },
     "execution_count": 113,
     "metadata": {},
     "output_type": "execute_result"
    }
   ],
   "source": [
    "LR.fit(df2[['First Dose Administered']],df2.AEFI)"
   ]
  },
  {
   "cell_type": "markdown",
   "id": "8cb3e563",
   "metadata": {},
   "source": [
    "# Perbandingan Akurasi"
   ]
  },
  {
   "cell_type": "code",
   "execution_count": 114,
   "id": "dd012b1b",
   "metadata": {},
   "outputs": [
    {
     "data": {
      "image/png": "[encoded data removed]",
      "text/plain": [
       "<Figure size 1000x1000 with 1 Axes>"
      ]
     },
     "metadata": {},
     "output_type": "display_data"
    }
   ],
   "source": [
    "algoritma = [\"KNeighborsClassifier\",\"NaiveBayes\"]\n",
    "predict_value = [accuracy_score(label_test, predicted_label),accuracy_score(label_test, predicted_nb)]\n",
    "\n",
    "plt.figure(figsize=(10,10))\n",
    "\n",
    "sns.barplot(x= algoritma,y = predict_value,palette='flare')\n",
    "\n",
    "plt.title(\"Perbandingan Akurasi\")\n",
    "plt.ylabel(\"Akurasi (%)\")\n",
    "plt.xlabel(\"Algoritma\")\n",
    "plt.show()"
   ]
  }
 ],
 "metadata": {
  "kernelspec": {
   "display_name": "Python 3 (ipykernel)",
   "language": "python",
   "name": "python3"
  },
  "language_info": {
   "codemirror_mode": {
    "name": "ipython",
    "version": 3
   },
   "file_extension": ".py",
   "mimetype": "text/x-python",
   "name": "python",
   "nbconvert_exporter": "python",
   "pygments_lexer": "ipython3",
   "version": "3.10.7"
  }
 },
 "nbformat": 4,
 "nbformat_minor": 5
}
