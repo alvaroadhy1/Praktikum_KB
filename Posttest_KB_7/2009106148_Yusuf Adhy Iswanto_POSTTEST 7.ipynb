{
 "cells": [
  {
   "cell_type": "markdown",
   "id": "ca7ddd8e",
   "metadata": {},
   "source": [
    "# Mengimport Library"
   ]
  },
  {
   "cell_type": "code",
   "execution_count": 25,
   "id": "30a30229",
   "metadata": {},
   "outputs": [],
   "source": [
    "import tensorflow as tf # untuk operasi tensor\n",
    "import numpy as np # untuk operasi aritmatika"
   ]
  },
  {
   "cell_type": "markdown",
   "id": "8872ae6b",
   "metadata": {},
   "source": [
    "# Membuat tensor bernilai random dengan shape 5 x 5"
   ]
  },
  {
   "cell_type": "code",
   "execution_count": 4,
   "id": "7c480de8",
   "metadata": {},
   "outputs": [
    {
     "data": {
      "text/plain": [
       "array([[-0.28433853,  0.8922832 ,  0.8983451 ,  0.7163981 ,  0.34969485],\n",
       "       [-0.37960768,  0.01531979,  0.27423722, -2.214901  , -0.08514621],\n",
       "       [ 1.0113182 ,  0.6616626 ,  1.383323  , -0.40465203,  0.86142987],\n",
       "       [-0.12589967, -1.418615  ,  2.0295074 ,  0.15304402,  0.13658497],\n",
       "       [-0.49787143,  0.38847125, -0.4244715 ,  0.46214256, -0.5444318 ]],\n",
       "      dtype=float32)"
      ]
     },
     "execution_count": 4,
     "metadata": {},
     "output_type": "execute_result"
    }
   ],
   "source": [
    "random_tensor = tf.random.normal([5,5], mean=0, stddev=1, seed=1) # buat tensor random dan dimasukkan ke variable\n",
    "random_tensor.numpy() # tampilkan dalam bentuk numpy"
   ]
  },
  {
   "cell_type": "markdown",
   "id": "ba9b7741",
   "metadata": {},
   "source": [
    "# Buat tensor bernilai bilangan prima dengan shape 5 x 5"
   ]
  },
  {
   "cell_type": "code",
   "execution_count": 6,
   "id": "206fd13c",
   "metadata": {},
   "outputs": [
    {
     "data": {
      "text/plain": [
       "array([[ 2.,  3.,  5.,  7., 11.],\n",
       "       [13., 17., 19., 23., 29.],\n",
       "       [31., 37., 41., 43., 47.],\n",
       "       [53., 59., 61., 71., 73.],\n",
       "       [79., 83., 89., 97.,  1.]], dtype=float32)"
      ]
     },
     "execution_count": 6,
     "metadata": {},
     "output_type": "execute_result"
    }
   ],
   "source": [
    "list_prime = [[2,3,5,7,11],[13,17,19,23,29],[31,37,41,43,47],[53,59,61,71,73],[79,83,89,97,1]] # buat list 5x5 bernilai bilangan prima\n",
    "\n",
    "prime_tensor = tf.constant(list_prime, dtype=tf.float32) # buat tensor dari list bilangan prima yang telah dibuat dan dimasukkan ke variable\n",
    "prime_tensor.numpy() # tampilkan dalam bentuk numpy"
   ]
  },
  {
   "cell_type": "markdown",
   "id": "9df9d500",
   "metadata": {},
   "source": [
    "# Menampilkan dimensi kedua variable tsb"
   ]
  },
  {
   "cell_type": "code",
   "execution_count": 7,
   "id": "c35e0f5e",
   "metadata": {},
   "outputs": [
    {
     "data": {
      "text/plain": [
       "TensorShape([5, 5])"
      ]
     },
     "execution_count": 7,
     "metadata": {},
     "output_type": "execute_result"
    }
   ],
   "source": [
    "random_tensor.shape # menampilkan dimensi random_tensor"
   ]
  },
  {
   "cell_type": "code",
   "execution_count": 26,
   "id": "2c6b5b55",
   "metadata": {},
   "outputs": [
    {
     "data": {
      "text/plain": [
       "TensorShape([5, 5])"
      ]
     },
     "execution_count": 26,
     "metadata": {},
     "output_type": "execute_result"
    }
   ],
   "source": [
    "prime_tensor.shape # menampilkan dimensi prime_tensor"
   ]
  },
  {
   "cell_type": "markdown",
   "id": "b446779e",
   "metadata": {},
   "source": [
    "# Menampilkan hasil perhitungan aritmatika 2 var tsb"
   ]
  },
  {
   "cell_type": "code",
   "execution_count": 10,
   "id": "eb188026",
   "metadata": {},
   "outputs": [
    {
     "name": "stdout",
     "output_type": "stream",
     "text": [
      "prime_tensor + random_tensor :\n",
      " tf.Tensor(\n",
      "[[ 1.7156615  3.8922832  5.898345   7.7163982 11.349695 ]\n",
      " [12.620392  17.01532   19.274237  20.785099  28.914854 ]\n",
      " [32.01132   37.661663  42.383324  42.59535   47.86143  ]\n",
      " [52.8741    57.581387  63.029507  71.153046  73.13658  ]\n",
      " [78.50213   83.38847   88.57553   97.46214    0.4555682]], shape=(5, 5), dtype=float32)\n"
     ]
    }
   ],
   "source": [
    "print(\"prime_tensor + random_tensor :\\n\", tf.add(prime_tensor,random_tensor)) # tf.add untuk penambahan "
   ]
  },
  {
   "cell_type": "code",
   "execution_count": 12,
   "id": "79f1f748",
   "metadata": {},
   "outputs": [
    {
     "name": "stdout",
     "output_type": "stream",
     "text": [
      "prime_tensor - random_tensor :\n",
      " tf.Tensor(\n",
      "[[ 2.2843385  2.1077168  4.101655   6.2836018 10.650305 ]\n",
      " [13.379608  16.98468   18.725763  25.214901  29.085146 ]\n",
      " [29.988682  36.338337  39.616676  43.40465   46.13857  ]\n",
      " [53.1259    60.418613  58.970493  70.846954  72.86342  ]\n",
      " [79.49787   82.61153   89.42447   96.53786    1.5444318]], shape=(5, 5), dtype=float32)\n"
     ]
    }
   ],
   "source": [
    "print(\"prime_tensor - random_tensor :\\n\", tf.subtract(prime_tensor,random_tensor)) # tf.subtract untuk pengurangan  "
   ]
  },
  {
   "cell_type": "code",
   "execution_count": 13,
   "id": "b13fa937",
   "metadata": {},
   "outputs": [
    {
     "name": "stdout",
     "output_type": "stream",
     "text": [
      "prime_tensor * random_tensor :\n",
      " tf.Tensor(\n",
      "[[ -0.56867707   2.6768496    4.4917254    5.0147867    3.8466434 ]\n",
      " [ -4.9349       0.2604365    5.210507   -50.942722    -2.4692402 ]\n",
      " [ 31.350864    24.481516    56.71624    -17.400038    40.487206  ]\n",
      " [ -6.672683   -83.69828    123.79995     10.866125     9.970702  ]\n",
      " [-39.331844    32.243114   -37.77796     44.827827    -0.5444318 ]], shape=(5, 5), dtype=float32)\n"
     ]
    }
   ],
   "source": [
    "print(\"prime_tensor * random_tensor :\\n\", tf.multiply(prime_tensor,random_tensor)) # tf.multiply untuk perkalian "
   ]
  },
  {
   "cell_type": "code",
   "execution_count": 14,
   "id": "14e1fcbb",
   "metadata": {},
   "outputs": [
    {
     "name": "stdout",
     "output_type": "stream",
     "text": [
      "prime_tensor / random_tensor :\n",
      " tf.Tensor(\n",
      "[[  -7.033869     3.3621612    5.5657897    9.771103    31.455997 ]\n",
      " [ -34.245884  1109.6754      69.28308    -10.384212  -340.5906   ]\n",
      " [  30.653063    55.919743    29.638777  -106.26414     54.560448 ]\n",
      " [-420.97012    -41.589863    30.056555   463.91882    534.4658   ]\n",
      " [-158.6755     213.65802   -209.6725     209.89194     -1.8367773]], shape=(5, 5), dtype=float32)\n"
     ]
    }
   ],
   "source": [
    "print(\"prime_tensor / random_tensor :\\n\", tf.divide(prime_tensor,random_tensor)) # tf.divide untuk pembagian "
   ]
  },
  {
   "cell_type": "code",
   "execution_count": 27,
   "id": "aade316a",
   "metadata": {},
   "outputs": [
    {
     "name": "stdout",
     "output_type": "stream",
     "text": [
      "prime_tensor ^ random_tensor :\n",
      " tf.Tensor(\n",
      "[[8.2111800e-01 2.6651845e+00 4.2453771e+00 4.0311284e+00 2.3129683e+00]\n",
      " [3.7769267e-01 1.0443600e+00 2.2422385e+00 9.6362422e-04 7.5072753e-01]\n",
      " [3.2228584e+01 1.0904867e+01 1.7021622e+02 2.1827987e-01 2.7567350e+01]\n",
      " [6.0661650e-01 3.0749836e-03 4.2008784e+03 1.9201007e+00 1.7968090e+00]\n",
      " [1.1356008e-01 5.5655317e+00 1.4877827e-01 8.2826967e+00 1.0000000e+00]], shape=(5, 5), dtype=float32)\n"
     ]
    }
   ],
   "source": [
    "print(\"prime_tensor ^ random_tensor :\\n\", tf.pow(prime_tensor,random_tensor)) # tf.pow untuk perpangkatan "
   ]
  },
  {
   "cell_type": "markdown",
   "id": "c642d54a",
   "metadata": {},
   "source": [
    "# Menampilkan nilai maksimal dan minimal random_tensor"
   ]
  },
  {
   "cell_type": "code",
   "execution_count": 16,
   "id": "bf958d03",
   "metadata": {},
   "outputs": [
    {
     "data": {
      "text/plain": [
       "array([2, 2, 2, 2, 3], dtype=int64)"
      ]
     },
     "execution_count": 16,
     "metadata": {},
     "output_type": "execute_result"
    }
   ],
   "source": [
    "tf.argmax(random_tensor, axis=0).numpy() # untuk menampilkan nilai maksimal dari tiap baris random_tensor karena axis nya 0"
   ]
  },
  {
   "cell_type": "code",
   "execution_count": 18,
   "id": "3652738f",
   "metadata": {},
   "outputs": [
    {
     "data": {
      "text/plain": [
       "array([4, 3, 4, 1, 4], dtype=int64)"
      ]
     },
     "execution_count": 18,
     "metadata": {},
     "output_type": "execute_result"
    }
   ],
   "source": [
    "tf.argmin(random_tensor, axis=0).numpy() # untuk menampilkan nilai minimum dari tiap baris random_tensor karena axis nya 0"
   ]
  },
  {
   "cell_type": "markdown",
   "id": "16c0127a",
   "metadata": {},
   "source": [
    "# Menampilkan hasil penggabungan variable random_tensor dengan prime_tensor"
   ]
  },
  {
   "cell_type": "code",
   "execution_count": 28,
   "id": "ddf6ac60",
   "metadata": {},
   "outputs": [
    {
     "data": {
      "text/plain": [
       "<tf.Tensor: shape=(5, 10), dtype=float32, numpy=\n",
       "array([[-2.8433853e-01,  8.9228320e-01,  8.9834511e-01,  7.1639812e-01,\n",
       "         3.4969485e-01,  2.0000000e+00,  3.0000000e+00,  5.0000000e+00,\n",
       "         7.0000000e+00,  1.1000000e+01],\n",
       "       [-3.7960768e-01,  1.5319794e-02,  2.7423722e-01, -2.2149010e+00,\n",
       "        -8.5146211e-02,  1.3000000e+01,  1.7000000e+01,  1.9000000e+01,\n",
       "         2.3000000e+01,  2.9000000e+01],\n",
       "       [ 1.0113182e+00,  6.6166258e-01,  1.3833230e+00, -4.0465203e-01,\n",
       "         8.6142987e-01,  3.1000000e+01,  3.7000000e+01,  4.1000000e+01,\n",
       "         4.3000000e+01,  4.7000000e+01],\n",
       "       [-1.2589967e-01, -1.4186150e+00,  2.0295074e+00,  1.5304402e-01,\n",
       "         1.3658497e-01,  5.3000000e+01,  5.9000000e+01,  6.1000000e+01,\n",
       "         7.1000000e+01,  7.3000000e+01],\n",
       "       [-4.9787143e-01,  3.8847125e-01, -4.2447150e-01,  4.6214256e-01,\n",
       "        -5.4443181e-01,  7.9000000e+01,  8.3000000e+01,  8.9000000e+01,\n",
       "         9.7000000e+01,  1.0000000e+00]], dtype=float32)>"
      ]
     },
     "execution_count": 28,
     "metadata": {},
     "output_type": "execute_result"
    }
   ],
   "source": [
    "tf.concat([random_tensor,prime_tensor], axis=1) # tf.concat untuk menggabungkan tensor, dan axis 0 artinya yang digabung adalah per baris"
   ]
  },
  {
   "cell_type": "markdown",
   "id": "0ae6e50d",
   "metadata": {},
   "source": [
    "# Menampilkan hasil sorting dari kedua variable tsb secara descending"
   ]
  },
  {
   "cell_type": "code",
   "execution_count": 21,
   "id": "94502753",
   "metadata": {},
   "outputs": [
    {
     "data": {
      "text/plain": [
       "array([[ 0.8983451 ,  0.8922832 ,  0.7163981 ,  0.34969485, -0.28433853],\n",
       "       [ 0.27423722,  0.01531979, -0.08514621, -0.37960768, -2.214901  ],\n",
       "       [ 1.383323  ,  1.0113182 ,  0.86142987,  0.6616626 , -0.40465203],\n",
       "       [ 2.0295074 ,  0.15304402,  0.13658497, -0.12589967, -1.418615  ],\n",
       "       [ 0.46214256,  0.38847125, -0.4244715 , -0.49787143, -0.5444318 ]],\n",
       "      dtype=float32)"
      ]
     },
     "execution_count": 21,
     "metadata": {},
     "output_type": "execute_result"
    }
   ],
   "source": [
    "sorted_random1 = tf.sort(random_tensor, direction=\"DESCENDING\") # tf.sort untuk mensorting, dan direction nya untuk menentukan arah sortingan nya ascending atau descending\n",
    "sorted_random1.numpy() # menampilkan dalam bentuk numpy"
   ]
  },
  {
   "cell_type": "code",
   "execution_count": 22,
   "id": "a13b79d2",
   "metadata": {},
   "outputs": [
    {
     "data": {
      "text/plain": [
       "array([[11.,  7.,  5.,  3.,  2.],\n",
       "       [29., 23., 19., 17., 13.],\n",
       "       [47., 43., 41., 37., 31.],\n",
       "       [73., 71., 61., 59., 53.],\n",
       "       [97., 89., 83., 79.,  1.]], dtype=float32)"
      ]
     },
     "execution_count": 22,
     "metadata": {},
     "output_type": "execute_result"
    }
   ],
   "source": [
    "sorted_prime1 = tf.sort(prime_tensor, direction=\"DESCENDING\") # tf.sort untuk mensorting, dan direction nya untuk menentukan arah sortingan nya ascending atau descending\n",
    "sorted_prime1.numpy() # menampilkan dalam bentuk numpy"
   ]
  },
  {
   "cell_type": "code",
   "execution_count": 23,
   "id": "4e5d8ff0",
   "metadata": {},
   "outputs": [
    {
     "data": {
      "text/plain": [
       "array([[2, 1, 3, 4, 0],\n",
       "       [2, 1, 4, 0, 3],\n",
       "       [2, 0, 4, 1, 3],\n",
       "       [2, 3, 4, 0, 1],\n",
       "       [3, 1, 2, 0, 4]])"
      ]
     },
     "execution_count": 23,
     "metadata": {},
     "output_type": "execute_result"
    }
   ],
   "source": [
    "sorted_random2 = tf.argsort(random_tensor, direction=\"DESCENDING\") # tf.argsort untuk mensorting dan nilai yang dikembalikan adalah indeks nya, dan direction nya untuk menentukan arah sortingan nya ascending atau descending\n",
    "sorted_random2.numpy() # menampilkan dalam bentuk numpy"
   ]
  },
  {
   "cell_type": "code",
   "execution_count": 24,
   "id": "85a4f318",
   "metadata": {},
   "outputs": [
    {
     "data": {
      "text/plain": [
       "array([[4, 3, 2, 1, 0],\n",
       "       [4, 3, 2, 1, 0],\n",
       "       [4, 3, 2, 1, 0],\n",
       "       [4, 3, 2, 1, 0],\n",
       "       [3, 2, 1, 0, 4]])"
      ]
     },
     "execution_count": 24,
     "metadata": {},
     "output_type": "execute_result"
    }
   ],
   "source": [
    "sorted_prime2 = tf.argsort(prime_tensor, direction=\"DESCENDING\")  # tf.argsort untuk mensorting dan nilai yang dikembalikan adalah indeks nya, dan direction nya untuk menentukan arah sortingan nya ascending atau descending\n",
    "sorted_prime2.numpy() # menampilkan dalam bentuk numpy"
   ]
  }
 ],
 "metadata": {
  "kernelspec": {
   "display_name": "Python 3 (ipykernel)",
   "language": "python",
   "name": "python3"
  },
  "language_info": {
   "codemirror_mode": {
    "name": "ipython",
    "version": 3
   },
   "file_extension": ".py",
   "mimetype": "text/x-python",
   "name": "python",
   "nbconvert_exporter": "python",
   "pygments_lexer": "ipython3",
   "version": "3.10.7"
  }
 },
 "nbformat": 4,
 "nbformat_minor": 5
}
